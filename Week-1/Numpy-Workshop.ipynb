{
 "cells": [
  {
   "metadata": {},
   "cell_type": "markdown",
   "source": [
    "# NumPy Workshop\n",
    "\n",
    "**Tarih:** 5 Nisan 2025\n",
    "**Yer:** BTK Akademi Derin Öğrenme Kursu\n",
    "\n",
    "---\n",
    "\n",
    "## Konu\n",
    "\n",
    "- NumPy ile temel dizi işlemleri\n",
    "- Toplama, ortalama, maksimum gibi işlemler\n",
    "- Küçük uygulamalar"
   ],
   "id": "de4f4f9bccadcc44"
  },
  {
   "metadata": {
    "collapsed": true,
    "ExecuteTime": {
     "end_time": "2025-04-05T10:35:26.190557Z",
     "start_time": "2025-04-05T10:35:26.186639Z"
    }
   },
   "cell_type": "code",
   "source": [
    "# Sadece NumPy ile Satış Verisi Analizi\n",
    "import numpy as np\n",
    "# Veriler\n",
    "months = ['Ocak', 'Şubat', 'Mart', 'Nisan', 'Mayıs', 'Haziran',\n",
    "          'Temmuz', 'Ağustos', 'Eylül', 'Ekim', 'Kasım', 'Aralık']\n",
    "region_1 = [10, 12, 15, 18, 20, 22, 25, 23, 19, 17, 21, 14]\n",
    "region_2 = [8, 9, 11, 13, 15, 17, 19, 18, 14, 16, 12, 10]\n",
    "region_3 = [12, 14, 16, 18, 20, 22, 24, 23, 21, 19, 17, 15]\n",
    "\n",
    "# Veriyi 12x3'lük bir NumPy dizisine çevirme\n",
    "data = np.array([region_1, region_2, region_3]).T"
   ],
   "id": "initial_id",
   "outputs": [],
   "execution_count": 74
  },
  {
   "metadata": {
    "ExecuteTime": {
     "end_time": "2025-04-05T10:35:26.242419Z",
     "start_time": "2025-04-05T10:35:26.237784Z"
    }
   },
   "cell_type": "code",
   "source": [
    "# 1. Dizinin boyutu ve eleman sayısı\n",
    "print(\"Dizinin boyutu:\", data.shape)\n",
    "print(\"Dizinin boyutu:\", data.ndim)\n",
    "print(\"Toplam eleman sayısı:\", data.size)"
   ],
   "id": "84e888dc9c45b77a",
   "outputs": [
    {
     "name": "stdout",
     "output_type": "stream",
     "text": [
      "Dizinin boyutu: (12, 3)\n",
      "Dizinin boyutu: 2\n",
      "Toplam eleman sayısı: 36\n"
     ]
    }
   ],
   "execution_count": 75
  },
  {
   "metadata": {
    "ExecuteTime": {
     "end_time": "2025-04-05T10:35:26.294007Z",
     "start_time": "2025-04-05T10:35:26.290050Z"
    }
   },
   "cell_type": "code",
   "source": [
    "# 2. Her bölgenin yıllık toplam satışı\n",
    "print(\"Her bölgenin yıllık toplam satışı:\")\n",
    "total_sales = np.sum(data, axis=0)\n",
    "for i, total in enumerate(total_sales, 1):\n",
    "    print(f\"Bölge {i}: {total} M TL\")"
   ],
   "id": "4be4990749bbdc23",
   "outputs": [
    {
     "name": "stdout",
     "output_type": "stream",
     "text": [
      "Her bölgenin yıllık toplam satışı:\n",
      "Bölge 1: 216 M TL\n",
      "Bölge 2: 162 M TL\n",
      "Bölge 3: 221 M TL\n"
     ]
    }
   ],
   "execution_count": 76
  },
  {
   "metadata": {
    "ExecuteTime": {
     "end_time": "2025-04-05T10:35:26.346961Z",
     "start_time": "2025-04-05T10:35:26.342757Z"
    }
   },
   "cell_type": "code",
   "source": [
    "# 3. Tüm bölgelerin yıllık ortalama satışı\n",
    "print(\"Tüm bölgelerin yıllık ortalama satışı:\", np.mean(data), \"M TL\")\n",
    "print(\"Bölge 1'in ortalaması:\", np.mean(data[:, 0]), \"M TL\")\n",
    "print(\"Bölge 2'nin ortalaması:\", np.mean(data[:, 1]), \"M TL\")\n",
    "print(\"Bölge 3'ün ortalaması:\", np.mean(data[:, 2]), \"M TL\")"
   ],
   "id": "e711734596197445",
   "outputs": [
    {
     "name": "stdout",
     "output_type": "stream",
     "text": [
      "Tüm bölgelerin yıllık ortalama satışı: 16.63888888888889 M TL\n",
      "Bölge 1'in ortalaması: 18.0 M TL\n",
      "Bölge 2'nin ortalaması: 13.5 M TL\n",
      "Bölge 3'ün ortalaması: 18.416666666666668 M TL\n"
     ]
    }
   ],
   "execution_count": 77
  },
  {
   "metadata": {
    "ExecuteTime": {
     "end_time": "2025-04-05T10:35:26.398884Z",
     "start_time": "2025-04-05T10:35:26.394004Z"
    }
   },
   "cell_type": "code",
   "source": [
    "# 4. En yüksek ve en düşük satışlar\n",
    "max_val = np.max(data)\n",
    "min_val = np.min(data)\n",
    "max_idx = np.unravel_index(np.argmax(data), data.shape)\n",
    "min_idx = np.unravel_index(np.argmin(data), data.shape)\n",
    "print(f\"En yüksek satış: {max_val} M TL ({months[max_idx[0]]}, Bölge {max_idx[1]+1})\")\n",
    "print(f\"En düşük satış: {min_val} M TL ({months[min_idx[0]]}, Bölge {min_idx[1]+1})\")"
   ],
   "id": "33faba21eac919c6",
   "outputs": [
    {
     "name": "stdout",
     "output_type": "stream",
     "text": [
      "En yüksek satış: 25 M TL (Temmuz, Bölge 1)\n",
      "En düşük satış: 8 M TL (Ocak, Bölge 2)\n"
     ]
    }
   ],
   "execution_count": 78
  },
  {
   "metadata": {
    "ExecuteTime": {
     "end_time": "2025-04-05T10:35:26.454813Z",
     "start_time": "2025-04-05T10:35:26.449789Z"
    }
   },
   "cell_type": "code",
   "source": [
    "# 5. Aylık toplamlar üzerinden en çok/en az satış yapılan ay\n",
    "monthly_totals = np.sum(data, axis=1)\n",
    "most_idx = np.argmax(monthly_totals)\n",
    "least_idx = np.argmin(monthly_totals)\n",
    "print(\"En çok satış yapılan ay:\", months[most_idx], \"-\", monthly_totals[most_idx], \"M TL\")\n",
    "print(\"En az satış yapılan ay:\", months[least_idx], \"-\", monthly_totals[least_idx], \"M TL\")\n"
   ],
   "id": "d28a85ae0ad04517",
   "outputs": [
    {
     "name": "stdout",
     "output_type": "stream",
     "text": [
      "En çok satış yapılan ay: Temmuz - 68 M TL\n",
      "En az satış yapılan ay: Ocak - 30 M TL\n"
     ]
    }
   ],
   "execution_count": 79
  },
  {
   "metadata": {
    "ExecuteTime": {
     "end_time": "2025-04-05T10:36:02.942258Z",
     "start_time": "2025-04-05T10:36:02.936375Z"
    }
   },
   "cell_type": "code",
   "source": [
    "# 6. Her bölgenin standart sapması\n",
    "print(\"Her bölgenin aylık satışlardaki standart sapması:\")\n",
    "stds = np.std(data, axis=0)\n",
    "for i, std in enumerate(stds, 1):\n",
    "    print(f\"Bölge {i}: {std:.3f}\")"
   ],
   "id": "33f51c1130938d06",
   "outputs": [
    {
     "name": "stdout",
     "output_type": "stream",
     "text": [
      "Her bölgenin aylık satışlardaki standart sapması:\n",
      "Bölge 1: 4.378\n",
      "Bölge 2: 3.452\n",
      "Bölge 3: 3.593\n"
     ]
    }
   ],
   "execution_count": 90
  },
  {
   "metadata": {
    "ExecuteTime": {
     "end_time": "2025-04-05T10:35:26.569946Z",
     "start_time": "2025-04-05T10:35:26.566172Z"
    }
   },
   "cell_type": "code",
   "source": [
    "# 7. Yeniden düzenleme (zaten 12x3)\n",
    "reshaped = data.reshape(12, 3)\n",
    "print(\"Yeniden düzenlenmiş veri (12x3):\\n\", reshaped)"
   ],
   "id": "50d194b7be0bc471",
   "outputs": [
    {
     "name": "stdout",
     "output_type": "stream",
     "text": [
      "Yeniden düzenlenmiş veri (12x3):\n",
      " [[10  8 12]\n",
      " [12  9 14]\n",
      " [15 11 16]\n",
      " [18 13 18]\n",
      " [20 15 20]\n",
      " [22 17 22]\n",
      " [25 19 24]\n",
      " [23 18 23]\n",
      " [19 14 21]\n",
      " [17 16 19]\n",
      " [21 12 17]\n",
      " [14 10 15]]\n"
     ]
    }
   ],
   "execution_count": 81
  },
  {
   "metadata": {
    "ExecuteTime": {
     "end_time": "2025-04-05T10:35:26.623674Z",
     "start_time": "2025-04-05T10:35:26.619464Z"
    }
   },
   "cell_type": "code",
   "source": [
    "# 8. 15 milyon TL üzerindeki satışlar\n",
    "print(\"15 M TL üzerindeki satışlar:\")\n",
    "rows, cols = np.where(data > 15)\n",
    "for r, c in zip(rows, cols):\n",
    "    print(f\"{months[r]} - Bölge {c+1}: {data[r, c]} M TL\")"
   ],
   "id": "89fc53e5c36969bb",
   "outputs": [
    {
     "name": "stdout",
     "output_type": "stream",
     "text": [
      "15 M TL üzerindeki satışlar:\n",
      "Mart - Bölge 3: 16 M TL\n",
      "Nisan - Bölge 1: 18 M TL\n",
      "Nisan - Bölge 3: 18 M TL\n",
      "Mayıs - Bölge 1: 20 M TL\n",
      "Mayıs - Bölge 3: 20 M TL\n",
      "Haziran - Bölge 1: 22 M TL\n",
      "Haziran - Bölge 2: 17 M TL\n",
      "Haziran - Bölge 3: 22 M TL\n",
      "Temmuz - Bölge 1: 25 M TL\n",
      "Temmuz - Bölge 2: 19 M TL\n",
      "Temmuz - Bölge 3: 24 M TL\n",
      "Ağustos - Bölge 1: 23 M TL\n",
      "Ağustos - Bölge 2: 18 M TL\n",
      "Ağustos - Bölge 3: 23 M TL\n",
      "Eylül - Bölge 1: 19 M TL\n",
      "Eylül - Bölge 3: 21 M TL\n",
      "Ekim - Bölge 1: 17 M TL\n",
      "Ekim - Bölge 2: 16 M TL\n",
      "Ekim - Bölge 3: 19 M TL\n",
      "Kasım - Bölge 1: 21 M TL\n",
      "Kasım - Bölge 3: 17 M TL\n"
     ]
    }
   ],
   "execution_count": 82
  },
  {
   "metadata": {
    "ExecuteTime": {
     "end_time": "2025-04-05T10:35:26.678705Z",
     "start_time": "2025-04-05T10:35:26.674864Z"
    }
   },
   "cell_type": "code",
   "source": [
    "# 9. Kümülatif satış toplamları\n",
    "print(\"Her bölgenin aylık kümülatif satış toplamları:\")\n",
    "cumsum = np.cumsum(data, axis=0)\n",
    "for i in range(12):\n",
    "    print(f\"{months[i]} - Bölge 1: {cumsum[i,0]}, Bölge 2: {cumsum[i,1]}, Bölge 3: {cumsum[i,2]}\")"
   ],
   "id": "761589c7f65cc0dc",
   "outputs": [
    {
     "name": "stdout",
     "output_type": "stream",
     "text": [
      "Her bölgenin aylık kümülatif satış toplamları:\n",
      "Ocak - Bölge 1: 10, Bölge 2: 8, Bölge 3: 12\n",
      "Şubat - Bölge 1: 22, Bölge 2: 17, Bölge 3: 26\n",
      "Mart - Bölge 1: 37, Bölge 2: 28, Bölge 3: 42\n",
      "Nisan - Bölge 1: 55, Bölge 2: 41, Bölge 3: 60\n",
      "Mayıs - Bölge 1: 75, Bölge 2: 56, Bölge 3: 80\n",
      "Haziran - Bölge 1: 97, Bölge 2: 73, Bölge 3: 102\n",
      "Temmuz - Bölge 1: 122, Bölge 2: 92, Bölge 3: 126\n",
      "Ağustos - Bölge 1: 145, Bölge 2: 110, Bölge 3: 149\n",
      "Eylül - Bölge 1: 164, Bölge 2: 124, Bölge 3: 170\n",
      "Ekim - Bölge 1: 181, Bölge 2: 140, Bölge 3: 189\n",
      "Kasım - Bölge 1: 202, Bölge 2: 152, Bölge 3: 206\n",
      "Aralık - Bölge 1: 216, Bölge 2: 162, Bölge 3: 221\n"
     ]
    }
   ],
   "execution_count": 83
  },
  {
   "metadata": {
    "ExecuteTime": {
     "end_time": "2025-04-05T10:35:26.730168Z",
     "start_time": "2025-04-05T10:35:26.726078Z"
    }
   },
   "cell_type": "code",
   "source": [
    "# 10. Medyan (ortanca)\n",
    "print(\"Her bölgenin satışlarının medyanı:\")\n",
    "for i in range(3):\n",
    "    print(f\"Bölge {i+1}: {np.median(data[:, i])} M TL\")"
   ],
   "id": "cda006dc36ef2e17",
   "outputs": [
    {
     "name": "stdout",
     "output_type": "stream",
     "text": [
      "Her bölgenin satışlarının medyanı:\n",
      "Bölge 1: 18.5 M TL\n",
      "Bölge 2: 13.5 M TL\n",
      "Bölge 3: 18.5 M TL\n"
     ]
    }
   ],
   "execution_count": 84
  },
  {
   "metadata": {
    "ExecuteTime": {
     "end_time": "2025-04-05T10:47:39.395699Z",
     "start_time": "2025-04-05T10:47:39.391449Z"
    }
   },
   "cell_type": "code",
   "source": [
    "# 10.1. Medyan (ortanca) - alternatif\n",
    "print(\"Her bölgenin satışlarının medyanı (alternatif):\")\n",
    "print(np.sort(data, axis=1))\n",
    "print(np.median(data, axis=1))"
   ],
   "id": "d6c1cbebbaedf132",
   "outputs": [
    {
     "name": "stdout",
     "output_type": "stream",
     "text": [
      "Her bölgenin satışlarının medyanı (alternatif):\n",
      "[[ 8 10 12]\n",
      " [ 9 12 14]\n",
      " [11 15 16]\n",
      " [13 18 18]\n",
      " [15 20 20]\n",
      " [17 22 22]\n",
      " [19 24 25]\n",
      " [18 23 23]\n",
      " [14 19 21]\n",
      " [16 17 19]\n",
      " [12 17 21]\n",
      " [10 14 15]]\n",
      "[10. 12. 15. 18. 20. 22. 24. 23. 19. 17. 17. 14.]\n"
     ]
    }
   ],
   "execution_count": 97
  },
  {
   "metadata": {
    "ExecuteTime": {
     "end_time": "2025-04-05T10:35:26.787341Z",
     "start_time": "2025-04-05T10:35:26.781804Z"
    }
   },
   "cell_type": "code",
   "source": [
    "# 11. Varyans\n",
    "print(\"Her bölgenin satışlarının varyansı:\")\n",
    "for i in range(3):\n",
    "    print(f\"Bölge {i+1}: {np.var(data[:, i]):.2f}\")"
   ],
   "id": "158c31fe8a60ec1f",
   "outputs": [
    {
     "name": "stdout",
     "output_type": "stream",
     "text": [
      "Her bölgenin satışlarının varyansı:\n",
      "Bölge 1: 19.17\n",
      "Bölge 2: 11.92\n",
      "Bölge 3: 12.91\n"
     ]
    }
   ],
   "execution_count": 85
  },
  {
   "metadata": {
    "ExecuteTime": {
     "end_time": "2025-04-05T10:35:26.843487Z",
     "start_time": "2025-04-05T10:35:26.838115Z"
    }
   },
   "cell_type": "code",
   "source": [
    "# 12. 25. ve 75. yüzdelikler\n",
    "flat_data = data.flatten()\n",
    "q25 = np.percentile(flat_data, 25)\n",
    "q75 = np.percentile(flat_data, 75)\n",
    "print(\"25. yüzdelik:\", q25)\n",
    "print(\"75. yüzdelik:\", q75)"
   ],
   "id": "39fb113303981089",
   "outputs": [
    {
     "name": "stdout",
     "output_type": "stream",
     "text": [
      "25. yüzdelik: 13.75\n",
      "75. yüzdelik: 20.0\n"
     ]
    }
   ],
   "execution_count": 86
  },
  {
   "metadata": {
    "ExecuteTime": {
     "end_time": "2025-04-05T10:35:26.899079Z",
     "start_time": "2025-04-05T10:35:26.894804Z"
    }
   },
   "cell_type": "code",
   "source": [
    "# 13. En çok satış yapılan ay (bölge bazlı)\n",
    "print(\"Her bölgenin en çok satış yaptığı ay:\")\n",
    "for i in range(3):\n",
    "    idx = np.argmax(data[:, i])\n",
    "    print(f\"Bölge {i+1}: {months[idx]} ({data[idx, i]} M TL)\")"
   ],
   "id": "da0c62debd7860cb",
   "outputs": [
    {
     "name": "stdout",
     "output_type": "stream",
     "text": [
      "Her bölgenin en çok satış yaptığı ay:\n",
      "Bölge 1: Temmuz (25 M TL)\n",
      "Bölge 2: Temmuz (19 M TL)\n",
      "Bölge 3: Temmuz (24 M TL)\n"
     ]
    }
   ],
   "execution_count": 87
  },
  {
   "metadata": {
    "ExecuteTime": {
     "end_time": "2025-04-05T10:35:27.020398Z",
     "start_time": "2025-04-05T10:35:27.015623Z"
    }
   },
   "cell_type": "code",
   "source": [
    "# 14. Rastgele 5 eleman seçimi\n",
    "print(\"Rastgele 5 satış verisi:\")\n",
    "print(np.random.choice(flat_data, 5, replace=False))"
   ],
   "id": "c37d0966cfbc90e6",
   "outputs": [
    {
     "name": "stdout",
     "output_type": "stream",
     "text": [
      "Rastgele 5 satış verisi:\n",
      "[17 16 18 22 11]\n"
     ]
    }
   ],
   "execution_count": 88
  },
  {
   "metadata": {
    "ExecuteTime": {
     "end_time": "2025-04-05T10:35:27.150493Z",
     "start_time": "2025-04-05T10:35:27.146455Z"
    }
   },
   "cell_type": "code",
   "source": [
    "# 15. Düzleştirilmiş veri\n",
    "print(\"Düzleştirilmiş veri:\")\n",
    "print(flat_data)"
   ],
   "id": "e6e95ac6ad67c212",
   "outputs": [
    {
     "name": "stdout",
     "output_type": "stream",
     "text": [
      "Düzleştirilmiş veri:\n",
      "[10  8 12 12  9 14 15 11 16 18 13 18 20 15 20 22 17 22 25 19 24 23 18 23\n",
      " 19 14 21 17 16 19 21 12 17 14 10 15]\n"
     ]
    }
   ],
   "execution_count": 89
  }
 ],
 "metadata": {
  "kernelspec": {
   "display_name": "Python 3",
   "language": "python",
   "name": "python3"
  },
  "language_info": {
   "codemirror_mode": {
    "name": "ipython",
    "version": 2
   },
   "file_extension": ".py",
   "mimetype": "text/x-python",
   "name": "python",
   "nbconvert_exporter": "python",
   "pygments_lexer": "ipython2",
   "version": "2.7.6"
  }
 },
 "nbformat": 4,
 "nbformat_minor": 5
}

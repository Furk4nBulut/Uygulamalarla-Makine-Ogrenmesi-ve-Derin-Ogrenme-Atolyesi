{
 "cells": [
  {
   "metadata": {},
   "cell_type": "markdown",
   "source": "# Veri Ön İşleme ( Preprocessing )",
   "id": "54d05692545b944d"
  },
  {
   "metadata": {},
   "cell_type": "markdown",
   "source": [
    "# İmputasyon ( Doldurma) nedir?\n",
    "Eksik verilerin yerine tahmin edilen veya hesaplnana değerler koyma işlemidir.\n",
    "Amaç: Veri kaybını önlemek,modelin daha iyi performans göstermesini sağlamak.\n",
    "\n",
    "SimpleImputer kullanımı\n",
    "* scikitlearn kütüphanesinden SimpleImputer sınıfını kullanarak eksik verileri doldurabiliriz.\n",
    "* Eksik verileri ortalama medyan veya en sık değer mod ile doldurabilir.\n",
    "*  Sayısal ve kategorik veriler için gfarklı statejiler uygulanabilir.\n",
    "*  strategy parametresi ile doldurma yönntemi belirlenir:\n",
    "    * mean: Ortalama ile doldurma ( sayısal veriler için)\n",
    "    * median: Medyan ile doldurma ( sayısal veriler için)\n",
    "    * most_frequent: En sık değer ile doldurma ( kategorik veya sayısal veriler için)\n",
    "    * constant: Sabit bir değer ile doldurma ( sayısal veya kategorik veriler için)\n",
    "* fill_value parametresi, constant seç,ldiği zaman dolduraak olan değeri belirler"
   ],
   "id": "26fd8422f951586c"
  },
  {
   "cell_type": "code",
   "id": "initial_id",
   "metadata": {
    "collapsed": true,
    "ExecuteTime": {
     "end_time": "2025-04-06T06:54:18.939384Z",
     "start_time": "2025-04-06T06:54:18.933486Z"
    }
   },
   "source": [
    "# Gerekli kütüphaneleri import et\n",
    "import numpy as np\n",
    "from sklearn.impute import SimpleImputer"
   ],
   "outputs": [],
   "execution_count": 6
  },
  {
   "metadata": {
    "ExecuteTime": {
     "end_time": "2025-04-06T06:54:19.480286Z",
     "start_time": "2025-04-06T06:54:19.471785Z"
    }
   },
   "cell_type": "code",
   "source": [
    "# Örnek veri seti oluştur\n",
    "data = np.array([[1, 2, np.nan],\n",
    "                [3, np.nan, 6],\n",
    "                [7, 8, 9],\n",
    "                [np.nan, 11, 12]])"
   ],
   "id": "50e113893e27a591",
   "outputs": [],
   "execution_count": 7
  },
  {
   "metadata": {
    "ExecuteTime": {
     "end_time": "2025-04-06T06:54:19.925418Z",
     "start_time": "2025-04-06T06:54:19.912514Z"
    }
   },
   "cell_type": "code",
   "source": [
    "# SimpleImputer objesi oluştur\n",
    "imputer = SimpleImputer(strategy='mean')\n",
    "# SimpleImputer objesini fit et ve veriyi dönüştür\n",
    "data_imputed_mean = imputer.fit_transform(data)\n",
    "\n",
    "print(data_imputed_mean)"
   ],
   "id": "51179a3a0b167ce7",
   "outputs": [
    {
     "name": "stdout",
     "output_type": "stream",
     "text": [
      "[[ 1.          2.          9.        ]\n",
      " [ 3.          7.          6.        ]\n",
      " [ 7.          8.          9.        ]\n",
      " [ 3.66666667 11.         12.        ]]\n"
     ]
    }
   ],
   "execution_count": 8
  },
  {
   "metadata": {
    "ExecuteTime": {
     "end_time": "2025-04-06T06:54:20.489203Z",
     "start_time": "2025-04-06T06:54:20.476644Z"
    }
   },
   "cell_type": "code",
   "source": [
    "# SimpleImputer objesi oluştur\n",
    "imputer = SimpleImputer(strategy='median')\n",
    "# SimpleImputer objesini fit et ve veriyi dönüştür\n",
    "data_imputed_median = imputer.fit_transform(data)\n",
    "\n",
    "print(data_imputed_median)"
   ],
   "id": "79e9cd8acd2b9022",
   "outputs": [
    {
     "name": "stdout",
     "output_type": "stream",
     "text": [
      "[[ 1.  2.  9.]\n",
      " [ 3.  8.  6.]\n",
      " [ 7.  8.  9.]\n",
      " [ 3. 11. 12.]]\n"
     ]
    }
   ],
   "execution_count": 9
  },
  {
   "metadata": {},
   "cell_type": "markdown",
   "source": [
    "# Veri Dönüşümü ( Transformation )\n",
    "* mevcut özellikler kullanılarak yeni özellikler oluşturma işlemidir.\n",
    "* Amaç: Modelin karmaşıklığını artırmaki veri setinde bulunmaya ilkileri ortaya çıkarmak.\n",
    "* modelin çğrenme kapasitesini artırır.\n",
    "\n",
    " Veri Dönüşümü ( Transformation ) - PolynomialFeatures\n",
    "* Özelliklerin polinomlarını oluşturur.\n",
    "* Özelliklerin çarpımlarını ve kuvvetlerini oluşturur.\n",
    "* Özelliklerin etkileşimlerini yakalar.\n",
    "\n",
    " Veri Dönüşümü ( Transformation ) - FunctionTransformer\n",
    "* Kullanıcı tanımlı bir fonksiyonu veri setine uygular.\n",
    "* Logaritmik üstel veya trigionmetrik dföünüşmler gibi özel durumlarda kullanılır.\n",
    "* func parametresi ile uygulanacak fonksiyon belirtlir.\n",
    "\n",
    " Veri Dönüşümü ( Transformation ) - Karşılaştırma\n",
    "* PolynomialFeatures: Mofrlein karşmaşılpını artırmak için pılinem özellikleri ouşturur.\n",
    "* function transformer verilere özel fonksiyonlar uyugularayak özel dönüşümler sağlar."
   ],
   "id": "2899794a2a9bd925"
  },
  {
   "metadata": {},
   "cell_type": "markdown",
   "source": "Veri Dönüşümü ( Transformation ) - PolynomialFeatures",
   "id": "7e2ed526d879705e"
  },
  {
   "metadata": {
    "ExecuteTime": {
     "end_time": "2025-04-06T06:59:38.712082Z",
     "start_time": "2025-04-06T06:59:38.705566Z"
    }
   },
   "cell_type": "code",
   "source": [
    "# Gerekli kütüphaneleri import et\n",
    "import numpy as np\n",
    "from sklearn.preprocessing import PolynomialFeatures"
   ],
   "id": "3af89ef1f41ccdd3",
   "outputs": [],
   "execution_count": 10
  },
  {
   "metadata": {
    "ExecuteTime": {
     "end_time": "2025-04-06T07:01:06.552109Z",
     "start_time": "2025-04-06T07:01:06.543240Z"
    }
   },
   "cell_type": "code",
   "source": [
    "# Örnek veri seti oluştur\n",
    "data = np.array([[2, 3],\n",
    "                [4, 5],\n",
    "                [6, 7]])\n",
    "print(data)"
   ],
   "id": "f3b63a275c0bbc07",
   "outputs": [
    {
     "name": "stdout",
     "output_type": "stream",
     "text": [
      "[[2 3]\n",
      " [4 5]\n",
      " [6 7]]\n"
     ]
    }
   ],
   "execution_count": 12
  },
  {
   "metadata": {
    "ExecuteTime": {
     "end_time": "2025-04-06T07:01:52.348187Z",
     "start_time": "2025-04-06T07:01:52.344873Z"
    }
   },
   "cell_type": "code",
   "source": [
    "# PolynomialFeatures objesi oluştur\n",
    "poly = PolynomialFeatures(degree=2)\n",
    "# PolynomialFeatures objesini fit et ve veriyi dönüştür\n",
    "data_poly = poly.fit_transform(data)\n",
    "\n",
    "print(\"Polinomal veri: \\n\", data_poly)"
   ],
   "id": "2035c4c340092eb5",
   "outputs": [
    {
     "name": "stdout",
     "output_type": "stream",
     "text": [
      "Polinomal veri: \n",
      " [[ 1.  2.  3.  4.  6.  9.]\n",
      " [ 1.  4.  5. 16. 20. 25.]\n",
      " [ 1.  6.  7. 36. 42. 49.]]\n"
     ]
    }
   ],
   "execution_count": 13
  },
  {
   "metadata": {},
   "cell_type": "markdown",
   "source": "Veri Dönüşümü ( Transformation ) - FunctionTransformer",
   "id": "4ea1f080ca2a17fc"
  },
  {
   "metadata": {
    "ExecuteTime": {
     "end_time": "2025-04-06T07:07:38.407514Z",
     "start_time": "2025-04-06T07:07:38.405258Z"
    }
   },
   "cell_type": "code",
   "source": [
    "# Gerekli kütüphaneleri import et\n",
    "import numpy as np\n",
    "from sklearn.preprocessing import FunctionTransformer"
   ],
   "id": "5aba693fa708d841",
   "outputs": [],
   "execution_count": 14
  },
  {
   "metadata": {
    "ExecuteTime": {
     "end_time": "2025-04-06T07:07:48.388909Z",
     "start_time": "2025-04-06T07:07:48.385287Z"
    }
   },
   "cell_type": "code",
   "source": [
    "# Örnek veri seti oluştur\n",
    "data = np.array([[1, 2],\n",
    "                [3, 4],\n",
    "                [5, 6]])"
   ],
   "id": "9bde058235624a51",
   "outputs": [],
   "execution_count": 15
  },
  {
   "metadata": {
    "ExecuteTime": {
     "end_time": "2025-04-06T07:08:41.312271Z",
     "start_time": "2025-04-06T07:08:41.308785Z"
    }
   },
   "cell_type": "code",
   "source": [
    "# Kullanıcı tanımlı fonksiyon\n",
    "log_transform = FunctionTransformer(np.log1p) # log1p: log(1+x) dönüşümü\n",
    "# Fonksiyonu veriye uygula\n",
    "data_log = log_transform.fit_transform(data)\n",
    "print(data_log)"
   ],
   "id": "33cceb8e5bfbf188",
   "outputs": [
    {
     "name": "stdout",
     "output_type": "stream",
     "text": [
      "[[0.69314718 1.09861229]\n",
      " [1.38629436 1.60943791]\n",
      " [1.79175947 1.94591015]]\n"
     ]
    }
   ],
   "execution_count": 16
  }
 ],
 "metadata": {
  "kernelspec": {
   "display_name": "Python 3",
   "language": "python",
   "name": "python3"
  },
  "language_info": {
   "codemirror_mode": {
    "name": "ipython",
    "version": 2
   },
   "file_extension": ".py",
   "mimetype": "text/x-python",
   "name": "python",
   "nbconvert_exporter": "python",
   "pygments_lexer": "ipython2",
   "version": "2.7.6"
  }
 },
 "nbformat": 4,
 "nbformat_minor": 5
}

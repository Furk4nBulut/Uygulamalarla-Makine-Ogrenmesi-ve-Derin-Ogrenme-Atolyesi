{
 "cells": [
  {
   "metadata": {},
   "cell_type": "markdown",
   "source": "# Veri Ön İşleme ( Data Preprocessing )",
   "id": "b0f2167bad44b9b9"
  },
  {
   "metadata": {},
   "cell_type": "markdown",
   "source": [
    "Eksik, Yanlış ve Marjinal Verilerle Çalışma\n",
    "\n",
    "Neden veri temizliği önemlidir?\n",
    "* Makine öğreinim modellerinin doğru ve güvenilir sonuçlar vermesi için kritik.\n",
    "* Yanlışi veya eksilk veeriler hatalı tahminlere ve yanlış kararlara yol açalbilir\n",
    "* Kaliteli veri daha güçlü ve genellebilir modeller oluşturmamızı sağlar\n",
    "* Matemaitksel alt yapı istatiksel yönntemlerin ortalam standart sapma vb. doğru hesaplanması için veirleri temiz olması gerekir.\n",
    "\n",
    "Veri kalitesi sorunları\n",
    "* Eksik veri bazı gözmlwmder bazı özellklerin değerlenin olmaması\n",
    "* yanlış veri yanluş girilmiş tutarsız veya geçerli olmayan veirleri\n",
    "* aykırı marjinal verile r diğer gözlemrden çok farlı olan uç noktalar\n",
    "* tutarsızlıklar aynı biligiyi farklı formatlada veya farklı şekillerde temsil eden değerler\n",
    "\n",
    "Veri temizleme süreci\n",
    "1. Veri tespiti hataları ve eksikleri belirlemek\n",
    "2. veri düzenlemtme hataları düzeltmek veya eksikleri gidermek\n",
    "3. veri döünüşümü veriyi analizi çin ıyugun bir formata getirmek\n",
    "4. doğrılama temizlenmi şverinin dıpru olduğundan emin olmak\n",
    "\n",
    "Kullanılan Araçlar ve Kütüphaneler\n",
    "* Pandas: veri analizi ve işleme için güçlü bir kütüphane\n",
    "* NumPy: sayısal hesaplamalar için temel kütüphane\n",
    "* Matplotlib ve Seaborn: veri görselleştirme için kullanılır\n",
    "* Scikit-learn: makine öğrenimi ve veri ön işleme için geniş bir kütüphane\n",
    "* Missingno: eksik verileri görselleştirmek ve analiz etmek için kullanılır\n",
    "\n",
    "Eksik veri tespiti\n",
    "* bir veri seitnden gözlemlerde belirli sutunlerşn değelerini mamasıdır\n",
    "* \"Nan\" not a bumver oalrak gösterilir\n",
    "* Neden önemli?\n",
    "  * Eksik veriler modelin performansını etkileyebilir\n",
    "  * Eksik verilerin nedenleri anlaşılmalıdır\n",
    "  * Eksik verilerin nasıl ele alınacağına karar verilmelidir\n"
   ],
   "id": "1d1001b0be43e393"
  },
  {
   "metadata": {},
   "cell_type": "markdown",
   "source": "pandas.isnull() ve pandas.isna()",
   "id": "3d3a7e19b627d961"
  },
  {
   "metadata": {
    "collapsed": true,
    "ExecuteTime": {
     "end_time": "2025-04-06T08:44:12.083822Z",
     "start_time": "2025-04-06T08:44:11.720888Z"
    }
   },
   "cell_type": "code",
   "source": [
    "# Gerekli kütüphaneleri import et\n",
    "import pandas as pd\n",
    "import numpy as np"
   ],
   "id": "initial_id",
   "outputs": [],
   "execution_count": 1
  },
  {
   "metadata": {
    "ExecuteTime": {
     "end_time": "2025-04-06T08:44:22.531744Z",
     "start_time": "2025-04-06T08:44:22.527795Z"
    }
   },
   "cell_type": "code",
   "source": [
    "# Örnek veri seti oluştur\n",
    "data = {\n",
    "    'A': [1, 2, np.nan, 4],\n",
    "    'B': [np.nan, 5, 6, 7],\n",
    "    'C': [8, 9, 10, np.nan]\n",
    "}"
   ],
   "id": "68ab2c2988cf6aee",
   "outputs": [],
   "execution_count": 2
  },
  {
   "metadata": {
    "ExecuteTime": {
     "end_time": "2025-04-06T08:44:42.773004Z",
     "start_time": "2025-04-06T08:44:42.767237Z"
    }
   },
   "cell_type": "code",
   "source": [
    "# DataFrame oluştur\n",
    "df = pd.DataFrame(data)\n",
    "print(df)"
   ],
   "id": "43d8e3c8947d52e",
   "outputs": [
    {
     "name": "stdout",
     "output_type": "stream",
     "text": [
      "     A    B     C\n",
      "0  1.0  NaN   8.0\n",
      "1  2.0  5.0   9.0\n",
      "2  NaN  6.0  10.0\n",
      "3  4.0  7.0   NaN\n"
     ]
    }
   ],
   "execution_count": 4
  },
  {
   "metadata": {
    "ExecuteTime": {
     "end_time": "2025-04-06T08:47:24.114723Z",
     "start_time": "2025-04-06T08:47:24.108320Z"
    }
   },
   "cell_type": "code",
   "source": [
    "print(df.isnull()) # Eksik verileri kontrol et\n",
    "print(df.isnull().sum()) # Her sütundaki eksik veri sayısını göster\n",
    "print(df.isnull().sum().sum()) # Toplam eksik veri sayısını göster"
   ],
   "id": "d32f7a37316427d0",
   "outputs": [
    {
     "name": "stdout",
     "output_type": "stream",
     "text": [
      "       A      B      C\n",
      "0  False   True  False\n",
      "1  False  False  False\n",
      "2   True  False  False\n",
      "3  False  False   True\n",
      "A    1\n",
      "B    1\n",
      "C    1\n",
      "dtype: int64\n",
      "3\n"
     ]
    }
   ],
   "execution_count": 9
  },
  {
   "metadata": {
    "ExecuteTime": {
     "end_time": "2025-04-06T08:47:38.989975Z",
     "start_time": "2025-04-06T08:47:38.984066Z"
    }
   },
   "cell_type": "code",
   "source": [
    "print(df.isna()) # Eksik verileri kontrol et\n",
    "print(df.isna().sum()) # Her sütundaki eksik veri sayısını göster\n",
    "print(df.isna().sum().sum()) # Toplam eksik veri sayısını göster"
   ],
   "id": "de5711f0b928020e",
   "outputs": [
    {
     "name": "stdout",
     "output_type": "stream",
     "text": [
      "       A      B      C\n",
      "0  False   True  False\n",
      "1  False  False  False\n",
      "2   True  False  False\n",
      "3  False  False   True\n",
      "A    1\n",
      "B    1\n",
      "C    1\n",
      "dtype: int64\n",
      "3\n"
     ]
    }
   ],
   "execution_count": 10
  },
  {
   "metadata": {},
   "cell_type": "markdown",
   "source": [
    "Missingno Kütüphanesi\n",
    "* Eksik verileri görselleştirmek için kullanılır\n",
    "* Matrix(), bar(), heatmap() gibi fonksiyonlar ile eksik verileri görselleştirir\n",
    "* msno.matrix() ile eksik verilerin dağılımını görselleştirir\n",
    "* msno.bar() ile eksik verilerin sayısını ve oranını gösterir\n",
    "* msno.heatmap() ile eksik verilerin korelasyonunu gösterir\n",
    "* msno.dendrogram() ile eksik verilerin hiyerarşik yapısını gösterir"
   ],
   "id": "e7fb9baa59c045a4"
  },
  {
   "metadata": {
    "ExecuteTime": {
     "end_time": "2025-04-06T08:51:04.730783Z",
     "start_time": "2025-04-06T08:51:03.790596Z"
    }
   },
   "cell_type": "code",
   "source": [
    "# 📦 Gerekli kütüphaneleri içe aktar\n",
    "import pandas as pd\n",
    "import numpy as np\n",
    "import matplotlib.pyplot as plt\n",
    "import missingno as msno"
   ],
   "id": "bcc982d2039efd27",
   "outputs": [],
   "execution_count": 11
  },
  {
   "metadata": {
    "ExecuteTime": {
     "end_time": "2025-04-06T08:51:05.581250Z",
     "start_time": "2025-04-06T08:51:05.575962Z"
    }
   },
   "cell_type": "code",
   "source": [
    "# 📊 Örnek veri: Bazı hücreler eksik (NaN)\n",
    "data = {\n",
    "    'A': [1, 2, np.nan, 4, np.nan, 6, 7, 8, np.nan, 10],\n",
    "    'B': [11, np.nan, 13, 14, 15, np.nan, 17, 18, 19, 20],\n",
    "    'C': [21, 22, 23, 24, np.nan, 26, 27, np.nan, 29, 30],\n",
    "    'D': [31, 32, 33, 34, 35, 36, 37, 38, 39, 40],\n",
    "    'E': [np.nan]*5 + [46, 47, 48, 49, 50]\n",
    "}\n",
    "df = pd.DataFrame(data)"
   ],
   "id": "723e415729c83740",
   "outputs": [],
   "execution_count": 12
  },
  {
   "metadata": {
    "ExecuteTime": {
     "end_time": "2025-04-06T08:51:06.809644Z",
     "start_time": "2025-04-06T08:51:06.666900Z"
    }
   },
   "cell_type": "code",
   "source": [
    "# ----------------------------------------------------\n",
    "# 1️⃣ Eksik Veri Matrisi (sparkline kapalı, tüm satır indeksleri açık)\n",
    "fig = plt.figure(figsize=(10, 5))\n",
    "ax = fig.gca()\n",
    "msno.matrix(df, ax=ax, sparkline=False)  # sparkline kapalı\n",
    "ax.set_yticks(np.arange(len(df)))         # Satır sayısı kadar yer işareti\n",
    "ax.set_yticklabels(df.index, fontsize=10) # İndeksleri göster\n",
    "plt.title(\"Eksik Veri Matrisi (Tüm Satır İndeksleri)\")\n",
    "plt.show()\n",
    "\n",
    "# ----------------------------------------------------"
   ],
   "id": "5e0d79c00669a064",
   "outputs": [
    {
     "data": {
      "text/plain": [
       "<Figure size 1000x500 with 1 Axes>"
      ],
      "image/png": "[encoded data removed]"
     },
     "metadata": {},
     "output_type": "display_data"
    }
   ],
   "execution_count": 13
  },
  {
   "metadata": {
    "ExecuteTime": {
     "end_time": "2025-04-06T08:51:08.662671Z",
     "start_time": "2025-04-06T08:51:08.475546Z"
    }
   },
   "cell_type": "code",
   "source": [
    "# 2️⃣ Eksik Veri Çubuk Grafiği: Hangi sütunda ne kadar eksik?\n",
    "msno.bar(df, figsize=(10, 4), color='tomato')\n",
    "plt.title(\"Eksik Veri Çubuk Grafiği\")\n",
    "plt.show()\n",
    "\n",
    "# ----------------------------------------------------"
   ],
   "id": "6c0eecb724718840",
   "outputs": [
    {
     "data": {
      "text/plain": [
       "<Figure size 1000x400 with 3 Axes>"
      ],
      "image/png": "[encoded data removed]"
     },
     "metadata": {},
     "output_type": "display_data"
    }
   ],
   "execution_count": 14
  },
  {
   "metadata": {
    "ExecuteTime": {
     "end_time": "2025-04-06T08:51:09.597044Z",
     "start_time": "2025-04-06T08:51:09.431033Z"
    }
   },
   "cell_type": "code",
   "source": [
    "# 3️⃣ Eksik Veri Isı Haritası: Korelasyon ilişkileri (birlikte eksik olma)\n",
    "msno.heatmap(df, figsize=(10, 4))\n",
    "plt.title(\"Eksik Veri Korelasyon Isı Haritası\")\n",
    "plt.show()\n",
    "\n",
    "# ----------------------------------------------------"
   ],
   "id": "244c8cbf9a33e16f",
   "outputs": [
    {
     "data": {
      "text/plain": [
       "<Figure size 1000x400 with 2 Axes>"
      ],
      "image/png": "[encoded data removed]"
     },
     "metadata": {},
     "output_type": "display_data"
    }
   ],
   "execution_count": 15
  },
  {
   "metadata": {
    "ExecuteTime": {
     "end_time": "2025-04-06T08:51:10.800661Z",
     "start_time": "2025-04-06T08:51:10.702184Z"
    }
   },
   "cell_type": "code",
   "source": [
    "# 4️⃣ Eksik Veri Dendrogramı: Eksiklik örüntüsüne göre sütun gruplama\n",
    "msno.dendrogram(df, figsize=(10, 5))\n",
    "plt.title(\"Eksik Veri Dendrogramı (Sütun Kümeleme)\")\n",
    "plt.show()"
   ],
   "id": "acd05454e0a5030e",
   "outputs": [
    {
     "data": {
      "text/plain": [
       "<Figure size 1000x500 with 1 Axes>"
      ],
      "image/png": "[encoded data removed]"
     },
     "metadata": {},
     "output_type": "display_data"
    }
   ],
   "execution_count": 16
  },
  {
   "metadata": {},
   "cell_type": "markdown",
   "source": [
    "## Eksik veri doldurma teknikleri\n",
    "* Eksik veri veri analizini ve modellemeyi olumsuz etkileyebilir\n",
    "* doldurma veri kaybını en aza inderek analiz doğruluğunu artılabilir\n",
    "* bazı makine öğrenimi algoritmaları eksik velriere işleyemez bu yüzden doldurma gereklidir\n"
   ],
   "id": "4a771ccc686c5a98"
  },
  {
   "metadata": {},
   "cell_type": "markdown",
   "source": [
    "Eksik veri dıkdurma teknileri - Ortalama, medyan mod ile doldurma\n",
    "* Ortalama: sayıssal sütunlardaki eksik değerleri sütunun ortalamasoyla doldurma.\n",
    "  * df['column_name'].fillna(df['column_name'].mean(), inplace=True)\n",
    "  * df['sutun'].fillna(df['sutun'].mean(), inplace=True)\n",
    "  * avantajı basit ve hızlı\n",
    "  * dezavantajı aykırı değerlendern etkilernir vayansı azaltır\n",
    "\n",
    "* Medyan: sayıssal sütunlardaki eksik değerleri sütunun medyanı ile doldurma.\n",
    "  * df['column_name'].fillna(df['column_name'].median(), inplace=True)\n",
    "  * df['sutun'].fillna(df['sutun'].median(), inplace=True)\n",
    "  * avantajı aykırı değerlere karşı daha dayanıklıdır\n",
    "  * dezavantajı varyansı azaltır\n",
    "\n",
    "* Mod: kategorik sütunlardaki eksik değerleri sütunun moduyla doldurma.\n",
    "  * df['column_name'].fillna(df['column_name'].mode()[0], inplace=True)\n",
    "  * df['sutun'].fillna(df['sutun'].mode()[0], inplace=True)\n",
    "  * avantajı kategorik veriler için uygundur\n",
    "  * dezavantajı en sık değeri baskın hale getirebilir"
   ],
   "id": "493112f1cc5ae478"
  },
  {
   "metadata": {
    "ExecuteTime": {
     "end_time": "2025-04-06T10:20:56.259472Z",
     "start_time": "2025-04-06T10:20:56.256130Z"
    }
   },
   "cell_type": "code",
   "source": [
    "# Gerekli kütüphaneleri import et\n",
    "import pandas as pd\n",
    "import numpy as np"
   ],
   "id": "5d462e2627b1d297",
   "outputs": [],
   "execution_count": 17
  },
  {
   "metadata": {
    "ExecuteTime": {
     "end_time": "2025-04-06T10:31:23.269211Z",
     "start_time": "2025-04-06T10:31:23.262322Z"
    }
   },
   "cell_type": "code",
   "source": [
    "# Örnek veri seti oluştur\n",
    "data = {\n",
    "    'A': [1, 2, np.nan, 4,5],\n",
    "    'B': [np.nan, 5, 6, 7, 8],\n",
    "    'C': [8, 'a', 'a', np.nan, 12],\n",
    "    'D': ['a', 'b', np.nan, 'a', 'e'],\n",
    "    'E': [np.nan, np.nan, np.nan, np.nan, 8]\n",
    "}\n",
    "# Veriyi DataFrame'e dönüştür\n",
    "df = pd.DataFrame(data)\n",
    "print(\"Original DataFrame:\", df)"
   ],
   "id": "2950dbdb436bec24",
   "outputs": [
    {
     "name": "stdout",
     "output_type": "stream",
     "text": [
      "Original DataFrame:      A    B    C    D    E\n",
      "0  1.0  NaN    8    a  NaN\n",
      "1  2.0  5.0    a    b  NaN\n",
      "2  NaN  6.0    a  NaN  NaN\n",
      "3  4.0  7.0  NaN    a  NaN\n",
      "4  5.0  8.0   12    e  8.0\n"
     ]
    }
   ],
   "execution_count": 36
  },
  {
   "metadata": {
    "ExecuteTime": {
     "end_time": "2025-04-06T10:31:23.808955Z",
     "start_time": "2025-04-06T10:31:23.802151Z"
    }
   },
   "cell_type": "code",
   "source": [
    "# Ortalama ile doldurma\n",
    "df['A_avg'] = df['A'].fillna(df['A'].mean()) # A sütununu ortalama ile doldur\n",
    "print(\"Ortalama ile doldurulmuş Dataframe:\\n\", df)"
   ],
   "id": "1a581b0b0bdd6e05",
   "outputs": [
    {
     "name": "stdout",
     "output_type": "stream",
     "text": [
      "Ortalama ile doldurulmuş Dataframe:\n",
      "      A    B    C    D    E  A_avg\n",
      "0  1.0  NaN    8    a  NaN    1.0\n",
      "1  2.0  5.0    a    b  NaN    2.0\n",
      "2  NaN  6.0    a  NaN  NaN    3.0\n",
      "3  4.0  7.0  NaN    a  NaN    4.0\n",
      "4  5.0  8.0   12    e  8.0    5.0\n"
     ]
    }
   ],
   "execution_count": 37
  },
  {
   "metadata": {
    "ExecuteTime": {
     "end_time": "2025-04-06T10:31:24.233838Z",
     "start_time": "2025-04-06T10:31:24.226462Z"
    }
   },
   "cell_type": "code",
   "source": [
    "# Medyan ile doldurma\n",
    "df['B_med'] = df['B'].fillna(df['B'].median()) # B sütununu medyan ile doldur\n",
    "print(\"Medyan ile doldurulmuş Dataframe:\\n\", df)"
   ],
   "id": "da9a5963c774f41e",
   "outputs": [
    {
     "name": "stdout",
     "output_type": "stream",
     "text": [
      "Medyan ile doldurulmuş Dataframe:\n",
      "      A    B    C    D    E  A_avg  B_med\n",
      "0  1.0  NaN    8    a  NaN    1.0    6.5\n",
      "1  2.0  5.0    a    b  NaN    2.0    5.0\n",
      "2  NaN  6.0    a  NaN  NaN    3.0    6.0\n",
      "3  4.0  7.0  NaN    a  NaN    4.0    7.0\n",
      "4  5.0  8.0   12    e  8.0    5.0    8.0\n"
     ]
    }
   ],
   "execution_count": 38
  },
  {
   "metadata": {
    "ExecuteTime": {
     "end_time": "2025-04-06T10:31:24.762618Z",
     "start_time": "2025-04-06T10:31:24.755168Z"
    }
   },
   "cell_type": "code",
   "source": [
    "# Mod ile doldurma\n",
    "df['C_mod'] = df['C'].fillna(df['D'].mode()[0]) # C sütununu mod ile doldur\n",
    "print(\"Mod ile doldurulmuş Dataframe:\\n\", df)"
   ],
   "id": "831dbb2962ac6c3d",
   "outputs": [
    {
     "name": "stdout",
     "output_type": "stream",
     "text": [
      "Mod ile doldurulmuş Dataframe:\n",
      "      A    B    C    D    E  A_avg  B_med C_mod\n",
      "0  1.0  NaN    8    a  NaN    1.0    6.5     8\n",
      "1  2.0  5.0    a    b  NaN    2.0    5.0     a\n",
      "2  NaN  6.0    a  NaN  NaN    3.0    6.0     a\n",
      "3  4.0  7.0  NaN    a  NaN    4.0    7.0     a\n",
      "4  5.0  8.0   12    e  8.0    5.0    8.0    12\n"
     ]
    }
   ],
   "execution_count": 39
  },
  {
   "metadata": {},
   "cell_type": "markdown",
   "source": [
    "Eksik veri doldurma teknikleri - ileri ve geri doldurma\n",
    "İleri doldurma: eksik değerleri kendinden öncekigeçerli verilerle doldurma\n",
    "  * df['column_name'].fillna(method='ffill', inplace=True)\n",
    "  * df['sutun'].fillna(method='ffill', inplace=True)\n",
    "  * avantajı zaman serisi verilerinde kullanışlıdır\n",
    "  * dezavantajı yanlış tahminlere yol açabilir ani değişiklikleri yakalyamaz.\n",
    "\n",
    "Geri doldurma: eksik değerleri kendinden sonraki geçerli değerle doldurma\n",
    "  * df['column_name'].fillna(method='bfill', inplace=True)\n",
    "  * df['sutun'].fillna(method='bfill', inplace=True)\n",
    "  * avantajı zaman serisi verilerinde kullanışlıdır\n",
    "  * dezavantajı yanlış tahminlere yol açabilir Ani değişiklikleri yakalaymaz.\n",
    ".\n"
   ],
   "id": "eeb6b7d48c67bd04"
  },
  {
   "metadata": {
    "ExecuteTime": {
     "end_time": "2025-04-06T10:41:21.840809Z",
     "start_time": "2025-04-06T10:41:21.837734Z"
    }
   },
   "cell_type": "code",
   "source": [
    "# Gerekli kütüphaneleri import et\n",
    "import pandas as pd\n",
    "import numpy as np"
   ],
   "id": "9da993a69afd9f0a",
   "outputs": [],
   "execution_count": 48
  },
  {
   "metadata": {
    "ExecuteTime": {
     "end_time": "2025-04-06T10:41:22.215910Z",
     "start_time": "2025-04-06T10:41:22.211727Z"
    }
   },
   "cell_type": "code",
   "source": [
    "# Örnek Dataframe ( Zaman serisi gibi sıralı veri )\n",
    "data = {\n",
    "    'A': [1, 2, np.nan, 4, 5],\n",
    "    'B': [np.nan, 5, 6, 7, 8],\n",
    "    'C': [8, np.nan, np.nan, 11, 12]\n",
    "}\n",
    "# Veriyi DataFrame'e dönüştür\n",
    "df = pd.DataFrame(data)"
   ],
   "id": "3ae55a0b5b346d41",
   "outputs": [],
   "execution_count": 49
  },
  {
   "metadata": {
    "ExecuteTime": {
     "end_time": "2025-04-06T10:44:15.111895Z",
     "start_time": "2025-04-06T10:44:15.104896Z"
    }
   },
   "cell_type": "code",
   "source": [
    "# İleri doldurma ( forward fill )\n",
    "df['A_ffill'] = df['A'].fillna(method='ffill') # A sütununu ileri doldur\n",
    "print(\"İleri doldurulmuş Dataframe:\\n\", df)"
   ],
   "id": "dbaba8c491cbda0a",
   "outputs": [
    {
     "name": "stdout",
     "output_type": "stream",
     "text": [
      "İleri doldurulmuş Dataframe:\n",
      "      A    B     C  A_ffill  B_bfill\n",
      "0  1.0  NaN   8.0      1.0      5.0\n",
      "1  2.0  5.0   NaN      2.0      5.0\n",
      "2  NaN  6.0   NaN      2.0      6.0\n",
      "3  4.0  7.0  11.0      4.0      7.0\n",
      "4  5.0  8.0  12.0      5.0      8.0\n"
     ]
    },
    {
     "name": "stderr",
     "output_type": "stream",
     "text": [
      "/tmp/ipykernel_3984/743894941.py:2: FutureWarning: Series.fillna with 'method' is deprecated and will raise in a future version. Use obj.ffill() or obj.bfill() instead.\n",
      "  df['A_ffill'] = df['A'].fillna(method='ffill') # A sütununu ileri doldur\n"
     ]
    }
   ],
   "execution_count": 53
  },
  {
   "metadata": {
    "ExecuteTime": {
     "end_time": "2025-04-06T10:44:44.608657Z",
     "start_time": "2025-04-06T10:44:44.602391Z"
    }
   },
   "cell_type": "code",
   "source": [
    "# İleri doldurma ( forward fill ) ( optional )\n",
    "df['A_ffill'] = df['A'].ffill() # A sütununu ileri doldur\n",
    "print(\"İleri doldurulmuş Dataframe:\\n\", df)\n"
   ],
   "id": "ef919d691b7e91b2",
   "outputs": [
    {
     "name": "stdout",
     "output_type": "stream",
     "text": [
      "İleri doldurulmuş Dataframe:\n",
      "      A    B     C  A_ffill  B_bfill\n",
      "0  1.0  NaN   8.0      1.0      5.0\n",
      "1  2.0  5.0   NaN      2.0      5.0\n",
      "2  NaN  6.0   NaN      2.0      6.0\n",
      "3  4.0  7.0  11.0      4.0      7.0\n",
      "4  5.0  8.0  12.0      5.0      8.0\n"
     ]
    }
   ],
   "execution_count": 54
  },
  {
   "metadata": {
    "ExecuteTime": {
     "end_time": "2025-04-06T10:41:23.408461Z",
     "start_time": "2025-04-06T10:41:23.401395Z"
    }
   },
   "cell_type": "code",
   "source": [
    "# Geri doldurma ( backward fill )\n",
    "df['B_bfill'] = df['B'].fillna(method='bfill') # B sütununu geri doldur\n",
    "print(\"Geri doldurulmuş Dataframe:\\n\", df)"
   ],
   "id": "c842e21db58cd723",
   "outputs": [
    {
     "name": "stdout",
     "output_type": "stream",
     "text": [
      "Geri doldurulmuş Dataframe:\n",
      "      A    B     C  A_ffill  B_bfill\n",
      "0  1.0  NaN   8.0      1.0      5.0\n",
      "1  2.0  5.0   NaN      2.0      5.0\n",
      "2  NaN  6.0   NaN      2.0      6.0\n",
      "3  4.0  7.0  11.0      4.0      7.0\n",
      "4  5.0  8.0  12.0      5.0      8.0\n"
     ]
    },
    {
     "name": "stderr",
     "output_type": "stream",
     "text": [
      "/tmp/ipykernel_3984/1832613244.py:2: FutureWarning: Series.fillna with 'method' is deprecated and will raise in a future version. Use obj.ffill() or obj.bfill() instead.\n",
      "  df['B_bfill'] = df['B'].fillna(method='bfill') # B sütununu geri doldur\n"
     ]
    }
   ],
   "execution_count": 51
  },
  {
   "metadata": {
    "ExecuteTime": {
     "end_time": "2025-04-06T10:45:07.764527Z",
     "start_time": "2025-04-06T10:45:07.757305Z"
    }
   },
   "cell_type": "code",
   "source": [
    "# Geri doldurma ( backward fill ) (optional)\n",
    "df['B_bfill'] = df['B'].bfill()\n",
    "print(\"Geri doldurulmuş Dataframe:\\n\", df)"
   ],
   "id": "c8df4a91b2ad4f0e",
   "outputs": [
    {
     "name": "stdout",
     "output_type": "stream",
     "text": [
      "Geri doldurulmuş Dataframe:\n",
      "      A    B     C  A_ffill  B_bfill\n",
      "0  1.0  NaN   8.0      1.0      5.0\n",
      "1  2.0  5.0   NaN      2.0      5.0\n",
      "2  NaN  6.0   NaN      2.0      6.0\n",
      "3  4.0  7.0  11.0      4.0      7.0\n",
      "4  5.0  8.0  12.0      5.0      8.0\n"
     ]
    }
   ],
   "execution_count": 56
  },
  {
   "metadata": {
    "ExecuteTime": {
     "end_time": "2025-04-06T10:46:52.565634Z",
     "start_time": "2025-04-06T10:46:52.558339Z"
    }
   },
   "cell_type": "code",
   "source": [
    "# Önceki ve sonraki geçerli değerlerle doldurma\n",
    "df['C_both'] = df['C'].fillna(method='bfill').fillna(method='ffill') # C sütununu hem ileri hem geri doldur\n",
    "print(\"Geri doldurulmuş Dataframe:\\n\", df)"
   ],
   "id": "95a9c3ed40d38dd0",
   "outputs": [
    {
     "name": "stdout",
     "output_type": "stream",
     "text": [
      "Geri doldurulmuş Dataframe:\n",
      "      A    B     C  A_ffill  B_bfill  C_both\n",
      "0  1.0  NaN   8.0      1.0      5.0     8.0\n",
      "1  2.0  5.0   NaN      2.0      5.0    11.0\n",
      "2  NaN  6.0   NaN      2.0      6.0    11.0\n",
      "3  4.0  7.0  11.0      4.0      7.0    11.0\n",
      "4  5.0  8.0  12.0      5.0      8.0    12.0\n"
     ]
    },
    {
     "name": "stderr",
     "output_type": "stream",
     "text": [
      "/tmp/ipykernel_3984/2870219776.py:2: FutureWarning: Series.fillna with 'method' is deprecated and will raise in a future version. Use obj.ffill() or obj.bfill() instead.\n",
      "  df['C_both'] = df['C'].fillna(method='bfill').fillna(method='ffill') # C sütununu hem ileri hem geri doldur\n"
     ]
    }
   ],
   "execution_count": 57
  },
  {
   "metadata": {
    "ExecuteTime": {
     "end_time": "2025-04-06T10:47:13.035154Z",
     "start_time": "2025-04-06T10:47:13.028522Z"
    }
   },
   "cell_type": "code",
   "source": [
    "# Önceki ve sonraki geçerli değerlerle doldurma ( Optional )\n",
    "df['C_both'] = df['C'].bfill().ffill() # C sütununu hem ileri hem geri doldur\n",
    "print(\"Geri doldurulmuş Dataframe:\\n\", df)"
   ],
   "id": "11391ba49bf03ec5",
   "outputs": [
    {
     "name": "stdout",
     "output_type": "stream",
     "text": [
      "Geri doldurulmuş Dataframe:\n",
      "      A    B     C  A_ffill  B_bfill  C_both\n",
      "0  1.0  NaN   8.0      1.0      5.0     8.0\n",
      "1  2.0  5.0   NaN      2.0      5.0    11.0\n",
      "2  NaN  6.0   NaN      2.0      6.0    11.0\n",
      "3  4.0  7.0  11.0      4.0      7.0    11.0\n",
      "4  5.0  8.0  12.0      5.0      8.0    12.0\n"
     ]
    }
   ],
   "execution_count": 58
  },
  {
   "metadata": {},
   "cell_type": "markdown",
   "source": [
    "Eksik veri doldurma teknikleri - Tahmine Dayalı Doldurma\n",
    "* Eksik değerleri diğer özelliklere dayanarak tahmin etme\n",
    "  * Regresyon\n",
    "    * sayısal eksiklikler için\n",
    "    * örneğin linear regresyon kullanarak eksik değerleri tahmin edebiliriz\n",
    "  * K-En Yakın komşular (KNN)\n",
    "    * sayısal ve kategorik eksikler için\n",
    "    * KNNImputer sınıfı kullanarak eksik değerleri tahmin edebiliriz ( Scikit-learn kütüphanesi)\n",
    "* Avantajı: Daha doğru sonuçlar verir\n",
    "* Dezavantajı: Hesaplama maliyeti yüksektir, Modelleme hatalarına duyarlı"
   ],
   "id": "9267e43900e978d"
  },
  {
   "metadata": {},
   "cell_type": "markdown",
   "source": "En Yakın Komşu (KNN) - KNNImputer",
   "id": "6a40574f64bec5b5"
  },
  {
   "metadata": {
    "ExecuteTime": {
     "end_time": "2025-04-06T10:53:55.144852Z",
     "start_time": "2025-04-06T10:53:55.141840Z"
    }
   },
   "cell_type": "code",
   "source": [
    "# Gerekli kütüphaneleri import et\n",
    "import pandas as pd\n",
    "import numpy as np\n",
    "from sklearn.impute import KNNImputer"
   ],
   "id": "f4063dd6007a3703",
   "outputs": [],
   "execution_count": 62
  },
  {
   "metadata": {
    "ExecuteTime": {
     "end_time": "2025-04-06T10:53:55.468893Z",
     "start_time": "2025-04-06T10:53:55.462667Z"
    }
   },
   "cell_type": "code",
   "source": [
    "# Örnek Dataframe ( KNNImputer )\n",
    "data = {\n",
    "    'A': [1, 2, np.nan, 4, 5],\n",
    "    'B': [np.nan, 5, 6, 7, 8],\n",
    "    'C': [8, np.nan, np.nan, 11, 12]\n",
    "}\n",
    "df = pd.DataFrame(data)\n",
    "print(\"Orijinal Dataframe:\\n\", df)"
   ],
   "id": "72d65183b0b67a3",
   "outputs": [
    {
     "name": "stdout",
     "output_type": "stream",
     "text": [
      "Orijinal Dataframe:\n",
      "      A    B     C\n",
      "0  1.0  NaN   8.0\n",
      "1  2.0  5.0   NaN\n",
      "2  NaN  6.0   NaN\n",
      "3  4.0  7.0  11.0\n",
      "4  5.0  8.0  12.0\n"
     ]
    }
   ],
   "execution_count": 63
  },
  {
   "metadata": {
    "ExecuteTime": {
     "end_time": "2025-04-06T10:56:06.755876Z",
     "start_time": "2025-04-06T10:56:06.742976Z"
    }
   },
   "cell_type": "code",
   "source": [
    "# KNNImputer objesi oluştur\n",
    "knn_imputer = KNNImputer(n_neighbors=3) # 3 komşu kullan ( Eşitliği bozmak için genelde tek sayı tercih edilir. )\n",
    "# KNNImputer objesini fit et ve veriyi dönüştür\n",
    "df_imputed = pd.DataFrame(knn_imputer.fit_transform(df),columns=df.columns)\n",
    "print(\"KNNImputer ile doldurulmuş Dataframe:\\n\", df_imputed)"
   ],
   "id": "60d878504056cfa3",
   "outputs": [
    {
     "name": "stdout",
     "output_type": "stream",
     "text": [
      "KNNImputer ile doldurulmuş Dataframe:\n",
      "           A         B          C\n",
      "0  1.000000  6.666667   8.000000\n",
      "1  2.000000  5.000000  10.333333\n",
      "2  3.666667  6.000000  11.500000\n",
      "3  4.000000  7.000000  11.000000\n",
      "4  5.000000  8.000000  12.000000\n"
     ]
    }
   ],
   "execution_count": 65
  },
  {
   "metadata": {},
   "cell_type": "markdown",
   "source": "Regression",
   "id": "27db3221fee8eca2"
  },
  {
   "metadata": {
    "ExecuteTime": {
     "end_time": "2025-04-06T11:01:41.375332Z",
     "start_time": "2025-04-06T11:01:41.372072Z"
    }
   },
   "cell_type": "code",
   "source": [
    "# Gerekli kütüphaneleri import et\n",
    "import pandas as pd\n",
    "import numpy as np\n",
    "from sklearn.linear_model import LinearRegression"
   ],
   "id": "db33ca1671c63686",
   "outputs": [],
   "execution_count": 66
  },
  {
   "metadata": {
    "ExecuteTime": {
     "end_time": "2025-04-06T11:01:42.564437Z",
     "start_time": "2025-04-06T11:01:42.557424Z"
    }
   },
   "cell_type": "code",
   "source": [
    "def otomatik_regresyon_doldurma(df):\n",
    "    \"\"\"\n",
    "    Tüm eksik değerleri, eksik oranı az olandan başlayarak regresyon ile doldurur.\n",
    "    \"\"\"\n",
    "    df = df.copy()\n",
    "    eksik_oranlar = df.isnull().mean().sort_values()  # Azdan çoğa\n",
    "\n",
    "    for hedef_sutun in eksik_oranlar.index:\n",
    "        if df[hedef_sutun].isnull().sum() == 0:\n",
    "            continue  # Eksik yoksa atla\n",
    "\n",
    "        print(f\"\\n🛠️ '{hedef_sutun}' sütunu dolduruluyor...\")\n",
    "\n",
    "        # Bağımlı sütunlar: diğer sütunlardan eksik olmayanlar\n",
    "        diger_sutunlar = df.columns.drop(hedef_sutun)\n",
    "        doldurulabilir_sutunlar = [s for s in diger_sutunlar if df[s].isnull().sum() == 0]\n",
    "\n",
    "        if not doldurulabilir_sutunlar:\n",
    "            print(f\"⚠️ '{hedef_sutun}' için uygun bağımsız değişken yok. Atlanıyor.\")\n",
    "            continue\n",
    "\n",
    "        # Eğitim verisi (hedef ve bağımsızlarda eksik olmayan)\n",
    "        egitim_df = df[df[hedef_sutun].notnull()]\n",
    "        egitim_df = egitim_df.dropna(subset=doldurulabilir_sutunlar)\n",
    "\n",
    "        # Tahmin verisi (hedef eksik, bağımsızları dolu)\n",
    "        tahmin_df = df[df[hedef_sutun].isnull()]\n",
    "        tahmin_df = tahmin_df.dropna(subset=doldurulabilir_sutunlar)\n",
    "\n",
    "        if egitim_df.empty or tahmin_df.empty:\n",
    "            print(f\"⚠️ '{hedef_sutun}' için yeterli veri yok. Atlanıyor.\")\n",
    "            continue\n",
    "\n",
    "        # Model eğitimi\n",
    "        model = LinearRegression()\n",
    "        model.fit(egitim_df[doldurulabilir_sutunlar], egitim_df[hedef_sutun])\n",
    "\n",
    "        # Tahmin ve doldurma\n",
    "        tahminler = model.predict(tahmin_df[doldurulabilir_sutunlar])\n",
    "        df.loc[tahmin_df.index, hedef_sutun] = tahminler\n",
    "\n",
    "        print(f\"✅ '{hedef_sutun}' sütunu başarıyla dolduruldu.\")\n",
    "\n",
    "    return df"
   ],
   "id": "8f42c9289fcd9d53",
   "outputs": [],
   "execution_count": 67
  },
  {
   "metadata": {
    "ExecuteTime": {
     "end_time": "2025-04-06T11:01:44.432530Z",
     "start_time": "2025-04-06T11:01:44.405451Z"
    }
   },
   "cell_type": "code",
   "source": [
    "# Örnek veri\n",
    "data = {'A': [1, 2, np.nan, 4, 5],\n",
    "        'B': [6, np.nan, 8, 9, 10],\n",
    "        'C': [11, 12, 13, 14, 15]}\n",
    "df = pd.DataFrame(data)\n",
    "\n",
    "print(\"🧾 Orijinal DataFrame:\")\n",
    "print(df)\n",
    "\n",
    "df_doldurulmus = otomatik_regresyon_doldurma(df)\n",
    "\n",
    "print(\"\\n✅ Doldurulmuş DataFrame:\")\n",
    "print(df_doldurulmus)"
   ],
   "id": "16aa76b45027661f",
   "outputs": [
    {
     "name": "stdout",
     "output_type": "stream",
     "text": [
      "🧾 Orijinal DataFrame:\n",
      "     A     B   C\n",
      "0  1.0   6.0  11\n",
      "1  2.0   NaN  12\n",
      "2  NaN   8.0  13\n",
      "3  4.0   9.0  14\n",
      "4  5.0  10.0  15\n",
      "\n",
      "🛠️ 'A' sütunu dolduruluyor...\n",
      "✅ 'A' sütunu başarıyla dolduruldu.\n",
      "\n",
      "🛠️ 'B' sütunu dolduruluyor...\n",
      "✅ 'B' sütunu başarıyla dolduruldu.\n",
      "\n",
      "✅ Doldurulmuş DataFrame:\n",
      "     A     B   C\n",
      "0  1.0   6.0  11\n",
      "1  2.0   7.0  12\n",
      "2  3.0   8.0  13\n",
      "3  4.0   9.0  14\n",
      "4  5.0  10.0  15\n"
     ]
    }
   ],
   "execution_count": 68
  },
  {
   "metadata": {},
   "cell_type": "markdown",
   "source": [
    "Yanlış veri tespiti ve düzeltme\n",
    "* veri toplama süreçlerindeki hatalar ( insan hatası, lçüm cihazı sorunları)\n",
    "* Veri giriş hataları\n",
    "* Veri dönüştürme veya birleştirme sırasında oluşan sorunlar.\n",
    "* Yanlış veriler, analiz sonuçlarını ve model perfomansını olumsuz etkiler.\n",
    "\n",
    "Veri tiplerinin doğrulupunu kontrol etme\n",
    "* Amaç: sütunların veri tiplerini beklenenlerle eşleşip eşleşmediğini kontrol etmek\n",
    "* Yöntemler:\n",
    "  * df.info() datagrame deki sütunların veri tiplerini gösteriri\n",
    "  * df.dtypes() Her sütunun veri tipini dönüdürür\n",
    "  * pd.to_numeric() bir sğtunu sauyısal bir ütre dönüştürmeye çalısır ( hata durumunda error parametristle ne yapılacağını belirtebilirsiniz.)\n",
    "  * astype() bir sütunun veri tipini değiştirir.\n",
    "* örnek \"yaş\" sütunun sayısal olması gerekirken, metin türünde olması\n"
   ],
   "id": "74f4d41feb1cf8db"
  },
  {
   "metadata": {
    "ExecuteTime": {
     "end_time": "2025-04-06T11:27:00.267648Z",
     "start_time": "2025-04-06T11:27:00.263736Z"
    }
   },
   "cell_type": "code",
   "source": [
    "import numpy as np\n",
    "import pandas as pd"
   ],
   "id": "6d08945cded5e4f5",
   "outputs": [],
   "execution_count": 69
  },
  {
   "metadata": {
    "ExecuteTime": {
     "end_time": "2025-04-06T11:29:38.120171Z",
     "start_time": "2025-04-06T11:29:38.114377Z"
    }
   },
   "cell_type": "code",
   "source": [
    "# Örnek DataFrame\n",
    "data = {'ID': [1, 2, 3, 4, 5],\n",
    "        'Yaş': ['25', '30', 'otuz', '40', '45'],\n",
    "        'Tarih': ['2023-01-01', '2023-01-02', '2023/01/03', '2023-01-04', '2023-01-05'],\n",
    "        'Puan': [8.5, 9.0, '7.5', 6.0, 8.0]}\n",
    "df = pd.DataFrame(data)\n",
    "print(df)"
   ],
   "id": "8d5ae46546bb43d2",
   "outputs": [
    {
     "name": "stdout",
     "output_type": "stream",
     "text": [
      "   ID   Yaş       Tarih Puan\n",
      "0   1    25  2023-01-01  8.5\n",
      "1   2    30  2023-01-02  9.0\n",
      "2   3  otuz  2023/01/03  7.5\n",
      "3   4    40  2023-01-04  6.0\n",
      "4   5    45  2023-01-05  8.0\n"
     ]
    }
   ],
   "execution_count": 76
  },
  {
   "metadata": {
    "ExecuteTime": {
     "end_time": "2025-04-06T11:29:38.677823Z",
     "start_time": "2025-04-06T11:29:38.674062Z"
    }
   },
   "cell_type": "code",
   "source": "print(df.dtypes) # Her sütunun veri tipini göster",
   "id": "c9e283680f4ce4c0",
   "outputs": [
    {
     "name": "stdout",
     "output_type": "stream",
     "text": [
      "ID        int64\n",
      "Yaş      object\n",
      "Tarih    object\n",
      "Puan     object\n",
      "dtype: object\n"
     ]
    }
   ],
   "execution_count": 77
  },
  {
   "metadata": {
    "ExecuteTime": {
     "end_time": "2025-04-06T11:29:39.123350Z",
     "start_time": "2025-04-06T11:29:39.029517Z"
    }
   },
   "cell_type": "code",
   "source": [
    "df['Yaş'] = pd.to_numeric(df['Yaş']) # Yaş sütununu sayısal türe dönüştür\n",
    "print(df)"
   ],
   "id": "3153a59a8ba7f286",
   "outputs": [
    {
     "ename": "ValueError",
     "evalue": "Unable to parse string \"otuz\" at position 2",
     "output_type": "error",
     "traceback": [
      "\u001B[31m---------------------------------------------------------------------------\u001B[39m",
      "\u001B[31mValueError\u001B[39m                                Traceback (most recent call last)",
      "\u001B[36mFile \u001B[39m\u001B[32mlib.pyx:2391\u001B[39m, in \u001B[36mpandas._libs.lib.maybe_convert_numeric\u001B[39m\u001B[34m()\u001B[39m\n",
      "\u001B[31mValueError\u001B[39m: Unable to parse string \"otuz\"",
      "\nDuring handling of the above exception, another exception occurred:\n",
      "\u001B[31mValueError\u001B[39m                                Traceback (most recent call last)",
      "\u001B[36mCell\u001B[39m\u001B[36m \u001B[39m\u001B[32mIn[78]\u001B[39m\u001B[32m, line 1\u001B[39m\n\u001B[32m----> \u001B[39m\u001B[32m1\u001B[39m df[\u001B[33m'\u001B[39m\u001B[33mYaş\u001B[39m\u001B[33m'\u001B[39m] = \u001B[43mpd\u001B[49m\u001B[43m.\u001B[49m\u001B[43mto_numeric\u001B[49m\u001B[43m(\u001B[49m\u001B[43mdf\u001B[49m\u001B[43m[\u001B[49m\u001B[33;43m'\u001B[39;49m\u001B[33;43mYaş\u001B[39;49m\u001B[33;43m'\u001B[39;49m\u001B[43m]\u001B[49m\u001B[43m)\u001B[49m \u001B[38;5;66;03m# Yaş sütununu sayısal türe dönüştür\u001B[39;00m\n\u001B[32m      2\u001B[39m \u001B[38;5;28mprint\u001B[39m(df)\n",
      "\u001B[36mFile \u001B[39m\u001B[32m~/miniconda3/envs/BTK-Course/lib/python3.12/site-packages/pandas/core/tools/numeric.py:232\u001B[39m, in \u001B[36mto_numeric\u001B[39m\u001B[34m(arg, errors, downcast, dtype_backend)\u001B[39m\n\u001B[32m    230\u001B[39m coerce_numeric = errors \u001B[38;5;129;01mnot\u001B[39;00m \u001B[38;5;129;01min\u001B[39;00m (\u001B[33m\"\u001B[39m\u001B[33mignore\u001B[39m\u001B[33m\"\u001B[39m, \u001B[33m\"\u001B[39m\u001B[33mraise\u001B[39m\u001B[33m\"\u001B[39m)\n\u001B[32m    231\u001B[39m \u001B[38;5;28;01mtry\u001B[39;00m:\n\u001B[32m--> \u001B[39m\u001B[32m232\u001B[39m     values, new_mask = \u001B[43mlib\u001B[49m\u001B[43m.\u001B[49m\u001B[43mmaybe_convert_numeric\u001B[49m\u001B[43m(\u001B[49m\u001B[43m  \u001B[49m\u001B[38;5;66;43;03m# type: ignore[call-overload]\u001B[39;49;00m\n\u001B[32m    233\u001B[39m \u001B[43m        \u001B[49m\u001B[43mvalues\u001B[49m\u001B[43m,\u001B[49m\n\u001B[32m    234\u001B[39m \u001B[43m        \u001B[49m\u001B[38;5;28;43mset\u001B[39;49m\u001B[43m(\u001B[49m\u001B[43m)\u001B[49m\u001B[43m,\u001B[49m\n\u001B[32m    235\u001B[39m \u001B[43m        \u001B[49m\u001B[43mcoerce_numeric\u001B[49m\u001B[43m=\u001B[49m\u001B[43mcoerce_numeric\u001B[49m\u001B[43m,\u001B[49m\n\u001B[32m    236\u001B[39m \u001B[43m        \u001B[49m\u001B[43mconvert_to_masked_nullable\u001B[49m\u001B[43m=\u001B[49m\u001B[43mdtype_backend\u001B[49m\u001B[43m \u001B[49m\u001B[38;5;129;43;01mis\u001B[39;49;00m\u001B[43m \u001B[49m\u001B[38;5;129;43;01mnot\u001B[39;49;00m\u001B[43m \u001B[49m\u001B[43mlib\u001B[49m\u001B[43m.\u001B[49m\u001B[43mno_default\u001B[49m\n\u001B[32m    237\u001B[39m \u001B[43m        \u001B[49m\u001B[38;5;129;43;01mor\u001B[39;49;00m\u001B[43m \u001B[49m\u001B[38;5;28;43misinstance\u001B[39;49m\u001B[43m(\u001B[49m\u001B[43mvalues_dtype\u001B[49m\u001B[43m,\u001B[49m\u001B[43m \u001B[49m\u001B[43mStringDtype\u001B[49m\u001B[43m)\u001B[49m\n\u001B[32m    238\u001B[39m \u001B[43m        \u001B[49m\u001B[38;5;129;43;01mand\u001B[39;49;00m\u001B[43m \u001B[49m\u001B[38;5;129;43;01mnot\u001B[39;49;00m\u001B[43m \u001B[49m\u001B[43mvalues_dtype\u001B[49m\u001B[43m.\u001B[49m\u001B[43mstorage\u001B[49m\u001B[43m \u001B[49m\u001B[43m==\u001B[49m\u001B[43m \u001B[49m\u001B[33;43m\"\u001B[39;49m\u001B[33;43mpyarrow_numpy\u001B[39;49m\u001B[33;43m\"\u001B[39;49m\u001B[43m,\u001B[49m\n\u001B[32m    239\u001B[39m \u001B[43m    \u001B[49m\u001B[43m)\u001B[49m\n\u001B[32m    240\u001B[39m \u001B[38;5;28;01mexcept\u001B[39;00m (\u001B[38;5;167;01mValueError\u001B[39;00m, \u001B[38;5;167;01mTypeError\u001B[39;00m):\n\u001B[32m    241\u001B[39m     \u001B[38;5;28;01mif\u001B[39;00m errors == \u001B[33m\"\u001B[39m\u001B[33mraise\u001B[39m\u001B[33m\"\u001B[39m:\n",
      "\u001B[36mFile \u001B[39m\u001B[32mlib.pyx:2433\u001B[39m, in \u001B[36mpandas._libs.lib.maybe_convert_numeric\u001B[39m\u001B[34m()\u001B[39m\n",
      "\u001B[31mValueError\u001B[39m: Unable to parse string \"otuz\" at position 2"
     ]
    }
   ],
   "execution_count": 78
  },
  {
   "metadata": {
    "ExecuteTime": {
     "end_time": "2025-04-06T11:30:08.077237Z",
     "start_time": "2025-04-06T11:30:08.070437Z"
    }
   },
   "cell_type": "code",
   "source": [
    "df['Yaş'] = pd.to_numeric(df['Yaş'],errors=\"coerce\") # Coerce ile hata durumunda NaN yap\n",
    "print(df)"
   ],
   "id": "43cf4c787295148c",
   "outputs": [
    {
     "name": "stdout",
     "output_type": "stream",
     "text": [
      "   ID   Yaş       Tarih Puan\n",
      "0   1  25.0  2023-01-01  8.5\n",
      "1   2  30.0  2023-01-02  9.0\n",
      "2   3   NaN  2023/01/03  7.5\n",
      "3   4  40.0  2023-01-04  6.0\n",
      "4   5  45.0  2023-01-05  8.0\n"
     ]
    }
   ],
   "execution_count": 80
  },
  {
   "metadata": {
    "ExecuteTime": {
     "end_time": "2025-04-06T11:31:07.296665Z",
     "start_time": "2025-04-06T11:31:07.290844Z"
    }
   },
   "cell_type": "code",
   "source": [
    "df['Puan'] = pd.to_numeric(df['Puan'],errors=\"coerce\") # Puan sütununu sayısal türe dönüştür\n",
    "print(df)"
   ],
   "id": "6078edb657477c0c",
   "outputs": [
    {
     "name": "stdout",
     "output_type": "stream",
     "text": [
      "   ID   Yaş       Tarih  Puan\n",
      "0   1  25.0  2023-01-01   8.5\n",
      "1   2  30.0  2023-01-02   9.0\n",
      "2   3   NaN  2023/01/03   7.5\n",
      "3   4  40.0  2023-01-04   6.0\n",
      "4   5  45.0  2023-01-05   8.0\n"
     ]
    }
   ],
   "execution_count": 81
  },
  {
   "metadata": {
    "ExecuteTime": {
     "end_time": "2025-04-06T11:31:33.700241Z",
     "start_time": "2025-04-06T11:31:33.692602Z"
    }
   },
   "cell_type": "code",
   "source": [
    "df['Tarih'] = pd.to_datetime(df['Tarih'], errors='coerce') # Tarih sütununu datetime türüne dönüştür\n",
    "print(df)"
   ],
   "id": "93b17957c39237d3",
   "outputs": [
    {
     "name": "stdout",
     "output_type": "stream",
     "text": [
      "   ID   Yaş      Tarih  Puan\n",
      "0   1  25.0 2023-01-01   8.5\n",
      "1   2  30.0 2023-01-02   9.0\n",
      "2   3   NaN        NaT   7.5\n",
      "3   4  40.0 2023-01-04   6.0\n",
      "4   5  45.0 2023-01-05   8.0\n"
     ]
    }
   ],
   "execution_count": 83
  },
  {
   "metadata": {
    "ExecuteTime": {
     "end_time": "2025-04-06T11:31:42.963955Z",
     "start_time": "2025-04-06T11:31:42.959975Z"
    }
   },
   "cell_type": "code",
   "source": "print(df.dtypes) # Her sütunun veri tipini göster",
   "id": "accb4d798dac754a",
   "outputs": [
    {
     "name": "stdout",
     "output_type": "stream",
     "text": [
      "ID                int64\n",
      "Yaş             float64\n",
      "Tarih    datetime64[ns]\n",
      "Puan            float64\n",
      "dtype: object\n"
     ]
    }
   ],
   "execution_count": 84
  }
 ],
 "metadata": {
  "kernelspec": {
   "display_name": "Python 3",
   "language": "python",
   "name": "python3"
  },
  "language_info": {
   "codemirror_mode": {
    "name": "ipython",
    "version": 2
   },
   "file_extension": ".py",
   "mimetype": "text/x-python",
   "name": "python",
   "nbconvert_exporter": "python",
   "pygments_lexer": "ipython2",
   "version": "2.7.6"
  }
 },
 "nbformat": 4,
 "nbformat_minor": 5
}

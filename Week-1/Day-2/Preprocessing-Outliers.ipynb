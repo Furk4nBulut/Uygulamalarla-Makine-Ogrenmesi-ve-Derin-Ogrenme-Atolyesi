{
 "cells": [
  {
   "metadata": {},
   "cell_type": "markdown",
   "source": [
    "# Aykırı değer tespiti ve eleme\n",
    "* Aykırı değerler: Veri setibib genelinden önemli ölçüde farklı olan gözlemler\n",
    "* Neden Önemli?\n",
    "  * İstatisksel analizleri etkieleyebilri ( portalama sandart sapma )\n",
    "  * Model perfomansını düşürebilir.\n",
    "  * yöntemler:\n",
    "    * Görselleştirme\n",
    "      * Kutu grafikleri ( sns.boxplot() )\n",
    "      * Histogramlar ( sns.histplot() )\n",
    "      * Saçılım grafikleri ( sns.scatterplot() )\n",
    "    * İstatksel yönetemler\n",
    "      * Z-Score bir değerin ortalamadan kaç sranart sapma uzakrta olduğunu ölçer\n",
    "      * IQR ( çeyrekler arası aralık) verinin orta yüzde ellisini kapsayan aralık\n",
    "  * Eleme aykırı değerleri veri setinden\n",
    "\n",
    "Marjinal aykırı değerlerle başa çıkma\n",
    "* Veri setindeki diğer gözlemlerden önemli ölçüde farklı uç değerlerdir\n",
    "* Dağılımn kuyruklarında yer alırlar\n",
    "* Neden önemlidir?\n",
    "  * istatistiksel analizleri etkileyebilir ( ortlama,standart sapma).\n",
    "  * Model performansını bozabilir\n",
    "  * Yanlış sonuçlara yol açabilir\n",
    "\n",
    "Aykırı değerleri tespit etme - görselleştirme yöntemleri\n",
    "* Kutu grafikleri ( sns.boxplot() ): verini dağılımını çeyrekliler medyan ve aykuru değerler cinsinden gösterir.\n",
    "* Histogramlar ( sns.histplot() ): verinin dağılımını frekans tabanlı gösterir.\n",
    "* Saçılım grafikleri ( sns.scatterplot() ): iki değişken arasındaki ilişkiyi gösterir ve aykırı değerleri görsel olarak ortaya çıkarabilir.\n",
    "\n",
    "Aykırı değerleri tespit etme - istatiskler yöntemler\n",
    "* Z-Score: bir değerin ortalamadan kaç standart sapma uzaklıkta olduğunu ölçer.\n",
    "  * Z-Score = (x - ortalama) / standart sapma\n",
    "  * Genellikle Z-Score > 3 veya Z-Score < -3 olan değerler aykırı olarak kabul edilir.\n",
    "* IQR (Çeyrekler Arası Aralık): verinin orta yüzde ellisini kapsayan aralık\n",
    "  * Q1: 1. çeyrek ( %25)\n",
    "  * Q3: 3. çeyrek ( %75)\n",
    "  * IQR = Q3 - Q1\n",
    "  * Aykırı değerler: Q1 - 1.5 * IQR ve Q3 + 1.5 * IQR dışındaki değerlerdir.\n",
    "\n",
    "Aykırı değerleri tespit etme - Aykırı değerleri dönüştürme veya budama\n",
    "* Dönüştürme:\n",
    "  * Log dönüşümü: Sağa çarpık veriler daha simetrij hale getirerek aykırı değerlerin etkisini azalabilir\n",
    "    * Formül: y = log(X)\n",
    "  * Karekök Dönüşümü: Log dönüşümüne benzer şekilde sağa çarpıklığı azalbilir\n",
    "    * Formül: y = kökx\n",
    "* Budama:\n",
    "  * Winsorizing aykırı değeleri beliri bir aralıktaki en yakın değerlere değişitmre\n",
    "    * Formül: if x < Q1 - 1.5 * IQR: x = Q1 - 1.5 * IQR\n",
    "* Trimming: Aykırı değerleri veri setinden çıkarmak\n",
    "  * Formül: if x < Q1 - 1.5 * IQR or x > Q3 + 1.5 * IQR: drop x\n",
    "\n",
    "Aykırı değerleri tespit etme - Robust istatiskler yöntemler kullanma\n",
    "* aykırı değerlere karşı daha dayanıklı olan istatiksel yöntemleri tercih etme\n",
    "* örnekler: ortalama yerine medtan kullanma: medyan aykırı değerlrden daha az etkilenir\n",
    "* standart sapma yerine iqr kullanma iqr aykırı değerlenden daha az etkilenir\n",
    "* Robust ölçeklendirme yöntemleri ( RobustScaler ) kullanma\n"
   ],
   "id": "42c8dee000ef827c"
  },
  {
   "metadata": {},
   "cell_type": "markdown",
   "source": "# Aykırı Değerleri Tespit Etme\n",
   "id": "5f960df1951ce736"
  },
  {
   "metadata": {
    "collapsed": true,
    "ExecuteTime": {
     "end_time": "2025-04-06T12:33:34.546435Z",
     "start_time": "2025-04-06T12:33:34.542799Z"
    }
   },
   "cell_type": "code",
   "source": [
    "import pandas as pd\n",
    "import seaborn as sns\n",
    "import matplotlib.pyplot as plt\n",
    "from scipy import stats\n",
    "import numpy as np"
   ],
   "id": "initial_id",
   "outputs": [],
   "execution_count": 5
  },
  {
   "metadata": {
    "ExecuteTime": {
     "end_time": "2025-04-06T12:33:35.265512Z",
     "start_time": "2025-04-06T12:33:35.261287Z"
    }
   },
   "cell_type": "code",
   "source": [
    "# Örnek DataFrame\n",
    "data = {'A': [1, 2, 3, 4, 5, 6, 7, 8, 9, 10, 20],\n",
    "        'B': [10, 11, 12, 13, 14, 15, 16, 17, 18, 19, 100]}\n",
    "df = pd.DataFrame(data)\n",
    "\n",
    "print(\"Orijinal DataFrame:\\n\", df)"
   ],
   "id": "4a4538516ebd27b2",
   "outputs": [
    {
     "name": "stdout",
     "output_type": "stream",
     "text": [
      "Orijinal DataFrame:\n",
      "      A    B\n",
      "0    1   10\n",
      "1    2   11\n",
      "2    3   12\n",
      "3    4   13\n",
      "4    5   14\n",
      "5    6   15\n",
      "6    7   16\n",
      "7    8   17\n",
      "8    9   18\n",
      "9   10   19\n",
      "10  20  100\n"
     ]
    }
   ],
   "execution_count": 6
  },
  {
   "metadata": {
    "ExecuteTime": {
     "end_time": "2025-04-06T12:33:36.122649Z",
     "start_time": "2025-04-06T12:33:36.014728Z"
    }
   },
   "cell_type": "code",
   "source": [
    "# Aykırı değer tespiti (kutu grafikleri)\n",
    "plt.figure(figsize=(10, 5))\n",
    "plt.subplot(1, 2, 1)\n",
    "sns.boxplot(y=df['A'])\n",
    "plt.title('A Sütunu Kutu Grafiği')\n",
    "\n",
    "plt.subplot(1, 2, 2)\n",
    "sns.boxplot(y=df['B'])\n",
    "plt.title('B Sütunu Kutu Grafiği')\n",
    "plt.show()"
   ],
   "id": "d14deb23d9372d0c",
   "outputs": [
    {
     "data": {
      "text/plain": [
       "<Figure size 1000x500 with 2 Axes>"
      ],
      "image/png": "[encoded data removed]"
     },
     "metadata": {},
     "output_type": "display_data"
    }
   ],
   "execution_count": 7
  },
  {
   "metadata": {
    "ExecuteTime": {
     "end_time": "2025-04-06T12:33:36.752013Z",
     "start_time": "2025-04-06T12:33:36.747366Z"
    }
   },
   "cell_type": "code",
   "source": [
    "# Aykırı değer tespiti (z-skorları)\n",
    "z_a = np.abs(stats.zscore(df['A']))\n",
    "z_b = np.abs(stats.zscore(df['B']))\n",
    "print(\"\\nA Sütunu Z-skorları:\\n\", z_a)\n",
    "print(\"\\nB Sütunu Z-skorları:\\n\", z_b)"
   ],
   "id": "f4968048ce6c9e4c",
   "outputs": [
    {
     "name": "stdout",
     "output_type": "stream",
     "text": [
      "\n",
      "A Sütunu Z-skorları:\n",
      " [1.16653219 0.96603447 0.76553675 0.56503903 0.36454131 0.16404359\n",
      " 0.03645413 0.23695185 0.43744957 0.63794729 2.64292449]\n",
      "\n",
      "B Sütunu Z-skorları:\n",
      " [0.49623634 0.45580227 0.4153682  0.37493412 0.33450005 0.29406598\n",
      " 0.25363191 0.21319784 0.17276376 0.13232969 3.14283016]\n"
     ]
    }
   ],
   "execution_count": 8
  },
  {
   "metadata": {
    "ExecuteTime": {
     "end_time": "2025-04-06T12:33:37.429375Z",
     "start_time": "2025-04-06T12:33:37.423433Z"
    }
   },
   "cell_type": "code",
   "source": [
    "# Aykırı değer tespiti (IQR)\n",
    "Q1_A = df['A'].quantile(0.25)\n",
    "Q3_A = df['A'].quantile(0.75)\n",
    "IQR_A = Q3_A - Q1_A\n",
    "print(\"\\nA Sütunu IQR:\", IQR_A)\n",
    "\n",
    "Q1_B = df['B'].quantile(0.25)\n",
    "Q3_B = df['B'].quantile(0.75)\n",
    "IQR_B = Q3_B - Q1_B\n",
    "print(\"\\nB Sütunu IQR:\", IQR_B)"
   ],
   "id": "895d9aff007bb2e4",
   "outputs": [
    {
     "name": "stdout",
     "output_type": "stream",
     "text": [
      "\n",
      "A Sütunu IQR: 5.0\n",
      "\n",
      "B Sütunu IQR: 5.0\n"
     ]
    }
   ],
   "execution_count": 9
  },
  {
   "metadata": {},
   "cell_type": "markdown",
   "source": "# Aykırı değerleri Dönüştürme veya Budama",
   "id": "ca9f80df386732ed"
  },
  {
   "metadata": {
    "ExecuteTime": {
     "end_time": "2025-04-06T12:38:28.261161Z",
     "start_time": "2025-04-06T12:38:28.257664Z"
    }
   },
   "cell_type": "code",
   "source": [
    "# Aykırı Değerleri Dönüştürme veya Budama\n",
    "import pandas as pd\n",
    "import numpy as np\n",
    "import seaborn as sns\n",
    "import matplotlib.pyplot as plt"
   ],
   "id": "dbf52cb5767b1140",
   "outputs": [],
   "execution_count": 10
  },
  {
   "metadata": {
    "ExecuteTime": {
     "end_time": "2025-04-06T12:38:28.611843Z",
     "start_time": "2025-04-06T12:38:28.607705Z"
    }
   },
   "cell_type": "code",
   "source": [
    "# Örnek DataFrame\n",
    "data = {'C': [1, 2, 3, 4, 5, 6, 7, 8, 9, 10, 50]}\n",
    "df = pd.DataFrame(data)\n",
    "\n",
    "print(\"Orijinal DataFrame:\\n\", df)"
   ],
   "id": "b7c72106572fab59",
   "outputs": [
    {
     "name": "stdout",
     "output_type": "stream",
     "text": [
      "Orijinal DataFrame:\n",
      "      C\n",
      "0    1\n",
      "1    2\n",
      "2    3\n",
      "3    4\n",
      "4    5\n",
      "5    6\n",
      "6    7\n",
      "7    8\n",
      "8    9\n",
      "9   10\n",
      "10  50\n"
     ]
    }
   ],
   "execution_count": 11
  },
  {
   "metadata": {
    "ExecuteTime": {
     "end_time": "2025-04-06T12:38:28.898238Z",
     "start_time": "2025-04-06T12:38:28.751052Z"
    }
   },
   "cell_type": "code",
   "source": [
    "# Orijinal dağılım\n",
    "plt.figure(figsize=(8, 4))\n",
    "plt.subplot(1, 2, 1)\n",
    "sns.histplot(df['C'], kde=True)\n",
    "plt.title('Orijinal Dağılım')"
   ],
   "id": "7c218bde78bed4fa",
   "outputs": [
    {
     "data": {
      "text/plain": [
       "Text(0.5, 1.0, 'Orijinal Dağılım')"
      ]
     },
     "execution_count": 12,
     "metadata": {},
     "output_type": "execute_result"
    },
    {
     "data": {
      "text/plain": [
       "<Figure size 800x400 with 1 Axes>"
      ],
      "image/png": "[encoded data removed]"
     },
     "metadata": {},
     "output_type": "display_data"
    }
   ],
   "execution_count": 12
  },
  {
   "metadata": {
    "ExecuteTime": {
     "end_time": "2025-04-06T12:38:29.064155Z",
     "start_time": "2025-04-06T12:38:28.916414Z"
    }
   },
   "cell_type": "code",
   "source": [
    "# Log dönüşümü\n",
    "df['C_log'] = df['C'].apply(np.log)\n",
    "plt.subplot(1, 2, 2)\n",
    "sns.histplot(df['C_log'], kde=True)\n",
    "plt.title('Log Dönüşümü Sonrası Dağılım')\n",
    "plt.show()\n",
    "\n",
    "print(\"\\nLog Dönüşümü Sonrası DataFrame:\\n\", df)"
   ],
   "id": "acca30c29c656994",
   "outputs": [
    {
     "data": {
      "text/plain": [
       "<Figure size 640x480 with 1 Axes>"
      ],
      "image/png": "[encoded data removed]"
     },
     "metadata": {},
     "output_type": "display_data"
    },
    {
     "name": "stdout",
     "output_type": "stream",
     "text": [
      "\n",
      "Log Dönüşümü Sonrası DataFrame:\n",
      "      C     C_log\n",
      "0    1  0.000000\n",
      "1    2  0.693147\n",
      "2    3  1.098612\n",
      "3    4  1.386294\n",
      "4    5  1.609438\n",
      "5    6  1.791759\n",
      "6    7  1.945910\n",
      "7    8  2.079442\n",
      "8    9  2.197225\n",
      "9   10  2.302585\n",
      "10  50  3.912023\n"
     ]
    }
   ],
   "execution_count": 13
  },
  {
   "metadata": {
    "ExecuteTime": {
     "end_time": "2025-04-06T12:38:29.341137Z",
     "start_time": "2025-04-06T12:38:29.334534Z"
    }
   },
   "cell_type": "code",
   "source": [
    "# Winsorizing\n",
    "from scipy.stats import iqr\n",
    "\n",
    "alt_sinir = np.percentile(df['C'], 10)\n",
    "ust_sinir = np.percentile(df['C'], 90)\n",
    "# 90 ve 10 arasındaki değerleri alır ve kesmeden en yakın değerlere değiştirir\n",
    "df['C_winsorized'] = np.clip(df['C'], alt_sinir, ust_sinir)\n",
    "print(\"\\nWinsorized DataFrame:\\n\", df)"
   ],
   "id": "3f0961113f6161bd",
   "outputs": [
    {
     "name": "stdout",
     "output_type": "stream",
     "text": [
      "\n",
      "Winsorized DataFrame:\n",
      "      C     C_log  C_winsorized\n",
      "0    1  0.000000             2\n",
      "1    2  0.693147             2\n",
      "2    3  1.098612             3\n",
      "3    4  1.386294             4\n",
      "4    5  1.609438             5\n",
      "5    6  1.791759             6\n",
      "6    7  1.945910             7\n",
      "7    8  2.079442             8\n",
      "8    9  2.197225             9\n",
      "9   10  2.302585            10\n",
      "10  50  3.912023            10\n"
     ]
    }
   ],
   "execution_count": 14
  },
  {
   "metadata": {
    "ExecuteTime": {
     "end_time": "2025-04-06T12:38:29.948526Z",
     "start_time": "2025-04-06T12:38:29.943259Z"
    }
   },
   "cell_type": "code",
   "source": [
    "# Trimming\n",
    "df_trimmed = df[(df['C'] > alt_sinir) & (df['C'] < ust_sinir)]\n",
    "print(\"\\nTrimmed DataFrame:\\n\", df_trimmed)"
   ],
   "id": "896e9f3765646176",
   "outputs": [
    {
     "name": "stdout",
     "output_type": "stream",
     "text": [
      "\n",
      "Trimmed DataFrame:\n",
      "    C     C_log  C_winsorized\n",
      "2  3  1.098612             3\n",
      "3  4  1.386294             4\n",
      "4  5  1.609438             5\n",
      "5  6  1.791759             6\n",
      "6  7  1.945910             7\n",
      "7  8  2.079442             8\n",
      "8  9  2.197225             9\n"
     ]
    }
   ],
   "execution_count": 15
  },
  {
   "metadata": {},
   "cell_type": "markdown",
   "source": "Robust İstatistiksel Yöntemler Kullanma",
   "id": "b82f68690c0756a4"
  },
  {
   "metadata": {
    "ExecuteTime": {
     "end_time": "2025-04-06T12:44:00.488265Z",
     "start_time": "2025-04-06T12:44:00.391243Z"
    }
   },
   "cell_type": "code",
   "source": [
    "#Robust İstatistiksel Yöntemler Kullanma\n",
    "import pandas as pd\n",
    "import numpy as np\n",
    "from sklearn.preprocessing import RobustScaler"
   ],
   "id": "a661e762e5d5632d",
   "outputs": [],
   "execution_count": 16
  },
  {
   "metadata": {
    "ExecuteTime": {
     "end_time": "2025-04-06T12:44:01.059108Z",
     "start_time": "2025-04-06T12:44:01.054609Z"
    }
   },
   "cell_type": "code",
   "source": [
    "# Örnek DataFrame\n",
    "data = {'D': [1, 2, 3, 4, 5, 6, 7, 8, 9, 10, 100]}\n",
    "df = pd.DataFrame(data)\n",
    "\n",
    "print(\"Orijinal DataFrame:\\n\", df)"
   ],
   "id": "a848cff355986e57",
   "outputs": [
    {
     "name": "stdout",
     "output_type": "stream",
     "text": [
      "Orijinal DataFrame:\n",
      "       D\n",
      "0     1\n",
      "1     2\n",
      "2     3\n",
      "3     4\n",
      "4     5\n",
      "5     6\n",
      "6     7\n",
      "7     8\n",
      "8     9\n",
      "9    10\n",
      "10  100\n"
     ]
    }
   ],
   "execution_count": 17
  },
  {
   "metadata": {
    "ExecuteTime": {
     "end_time": "2025-04-06T12:44:01.812159Z",
     "start_time": "2025-04-06T12:44:01.807833Z"
    }
   },
   "cell_type": "code",
   "source": [
    "# Ortalama ve Medyan Karşılaştırma\n",
    "ortalama = df['D'].mean()\n",
    "medyan = df['D'].median()\n",
    "print(\"\\nOrtalama:\", ortalama)\n",
    "print(\"Medyan:\", medyan)"
   ],
   "id": "6cc3830057fbfb21",
   "outputs": [
    {
     "name": "stdout",
     "output_type": "stream",
     "text": [
      "\n",
      "Ortalama: 14.090909090909092\n",
      "Medyan: 6.0\n"
     ]
    }
   ],
   "execution_count": 18
  },
  {
   "metadata": {
    "ExecuteTime": {
     "end_time": "2025-04-06T12:44:02.593848Z",
     "start_time": "2025-04-06T12:44:02.588565Z"
    }
   },
   "cell_type": "code",
   "source": [
    "# Standart Sapma ve IQR Karşılaştırma\n",
    "standart_sapma = df['D'].std()\n",
    "Q1 = df['D'].quantile(0.25)\n",
    "Q3 = df['D'].quantile(0.75)\n",
    "IQR = Q3 - Q1\n",
    "print(\"\\nStandart Sapma:\", standart_sapma)\n",
    "print(\"IQR:\", IQR)"
   ],
   "id": "33cc14f348b91f6e",
   "outputs": [
    {
     "name": "stdout",
     "output_type": "stream",
     "text": [
      "\n",
      "Standart Sapma: 28.637229424141385\n",
      "IQR: 5.0\n"
     ]
    }
   ],
   "execution_count": 19
  },
  {
   "metadata": {
    "ExecuteTime": {
     "end_time": "2025-04-06T12:44:03.126077Z",
     "start_time": "2025-04-06T12:44:03.119024Z"
    }
   },
   "cell_type": "code",
   "source": [
    "# RobustScaler Uygulama\n",
    "scaler = RobustScaler()\n",
    "df['D_robust_scaled'] = scaler.fit_transform(df[['D']])\n",
    "print(\"\\nRobust Scaled DataFrame:\\n\", df)"
   ],
   "id": "cb6f5383af197235",
   "outputs": [
    {
     "name": "stdout",
     "output_type": "stream",
     "text": [
      "\n",
      "Robust Scaled DataFrame:\n",
      "       D  D_robust_scaled\n",
      "0     1             -1.0\n",
      "1     2             -0.8\n",
      "2     3             -0.6\n",
      "3     4             -0.4\n",
      "4     5             -0.2\n",
      "5     6              0.0\n",
      "6     7              0.2\n",
      "7     8              0.4\n",
      "8     9              0.6\n",
      "9    10              0.8\n",
      "10  100             18.8\n"
     ]
    }
   ],
   "execution_count": 20
  }
 ],
 "metadata": {
  "kernelspec": {
   "display_name": "Python 3",
   "language": "python",
   "name": "python3"
  },
  "language_info": {
   "codemirror_mode": {
    "name": "ipython",
    "version": 2
   },
   "file_extension": ".py",
   "mimetype": "text/x-python",
   "name": "python",
   "nbconvert_exporter": "python",
   "pygments_lexer": "ipython2",
   "version": "2.7.6"
  }
 },
 "nbformat": 4,
 "nbformat_minor": 5
}

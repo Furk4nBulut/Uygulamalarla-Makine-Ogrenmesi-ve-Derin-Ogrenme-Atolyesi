{
 "cells": [
  {
   "metadata": {},
   "cell_type": "markdown",
   "source": [
    "Boyut İndirgeme ( diminsionality reduction) : temel bileşen analizi ( principal Compenent analysis - PCA)\n",
    "* yüksek boyutlu veri setlerinde özellik sayısını azalatma işlenmidir.\n",
    "* Amaç:\n",
    "  * Veri kümrsisin karmaşıklığımı azalatmak7\n",
    "  * hesaplama maliyetini düşürmek\n",
    "  * görsellestirmeyi kolaylastırmak 2d veya 3d\n",
    "  * aşırı öprenmeyi overfitting önlemek\n",
    "  * özellikler arasındaki çoklu doğrsallık ( multicollinearity ) sorunun çözmek\n",
    "\n"
   ],
   "id": "86e14b1cb0d20be"
  },
  {
   "metadata": {},
   "cell_type": "markdown",
   "source": [
    "Temel Bileşen Analizi ( PCA )\n",
    "* en yaygın boyut indirgeme tekniklerinde biriir\n",
    "* verideki en büyük varyansı yakalan yeni eksenler temel bileşenler bulut\n",
    "* özllikler arasındaki korealsyonu azaltır\n",
    "* doğrusal bir yöntemdir.\n",
    "\n",
    "PCA çalışma prensini\n",
    "* 1.Adım: veri setinin ortalamasını al\n",
    "* 2. adım korvayons marrisi hesaplanir\n",
    "* 3. adım korvanyans amrisin özvekterleri ve özdeğelrini bulunur\n",
    "* 4. adım özdeğerlere gmre mzvektler sıralanaır ( en büyükten en kğçğoe )\n",
    "* 5. adoım ilk k özvektör en büyük özdeğere karşılık gelen sçeilir\n",
    "* 6. adom veri seti seçilen özvektöerele dönüştürülür\n",
    "* matematisel alt yapı temel bileşenler özvekler ile orijibal verinin doğrısal kombinasyolarıdır.\n",
    "\n",
    "PCA de boyut seçimi\n",
    "* kaç temel bileşen seçileceği önemlidir\n",
    "* Açıklanan varyans oranı kullanılır.\n",
    "* Genellikle toplma varyansın % 90 95 imi açıklayan bileşenler seçilir\n",
    "* Dirsek grafikleri ( elbow plots ) kullanılabilir.\n",
    "\n",
    "PCA'nın Kullanım alanları\n",
    "* görüntü sıkıştırma\n",
    "* yüz tanıma\n",
    "* genetik veri analizi\n",
    "* finansal veri analizi\n",
    "* veri görselleştirme\n",
    "\n",
    "Feature Selection ( Özellik Seçimi ) ile Dimensionality Reduction ( Boyut İndirgeme ) Arasındaki Farklar\n",
    "* Amaç: En önemli özellikleri seçmek / Daha az özellik ile veri setini temsil etmek\n",
    "* Yöntem: En önemli özelliği seç diğerini at / Özellikleri matematiksel olarak birleştirierek yenisini oluşturur.\n",
    "* Sonuç: Seçilen özellikler orijinal ,özgündür,özelliklerdir / Özellikler Özgünlüğnü kaybeder\n",
    "* Yorumlanabilir: Yorumlanabiliği yüksek olabilir / Yorumlanabilirlik azalır\n",
    "* Örnekler: SelectKBest, Recursive Feature Elimination / PCA, t-SNE"
   ],
   "id": "cc6bbc635573c193"
  },
  {
   "metadata": {
    "ExecuteTime": {
     "end_time": "2025-04-06T08:21:48.837712Z",
     "start_time": "2025-04-06T08:21:48.833756Z"
    }
   },
   "cell_type": "code",
   "source": [
    "# Gerekli kütüphaneleri import edelim\n",
    "import numpy as np\n",
    "from sklearn.decomposition import PCA\n",
    "from sklearn.preprocessing import StandardScaler"
   ],
   "id": "345b7dbd2b530c94",
   "outputs": [],
   "execution_count": 4
  },
  {
   "metadata": {
    "ExecuteTime": {
     "end_time": "2025-04-06T08:21:49.343297Z",
     "start_time": "2025-04-06T08:21:49.339997Z"
    }
   },
   "cell_type": "code",
   "source": [
    "# Örnek veri setini oluşturalım ( 2 Boyutlu )\n",
    "data = np.array([[1,2,3,4],\n",
    "                 [5,6,7,8],\n",
    "                 [9,10,11,12],\n",
    "                 [13,14,15,16]])"
   ],
   "id": "394cef6d07ea9b8c",
   "outputs": [],
   "execution_count": 5
  },
  {
   "metadata": {
    "ExecuteTime": {
     "end_time": "2025-04-06T08:22:51.379342Z",
     "start_time": "2025-04-06T08:22:51.374075Z"
    }
   },
   "cell_type": "code",
   "source": [
    "# Veriyi ölçeklendir\n",
    "sc = StandardScaler()\n",
    "data_scaled = sc.fit_transform(data)\n",
    "print(\"Ölçeklendirilmiş veri:\\n\", data_scaled)"
   ],
   "id": "5644a9b932d99140",
   "outputs": [
    {
     "name": "stdout",
     "output_type": "stream",
     "text": [
      "Ölçeklendirilmiş veri:\n",
      " [[-1.34164079 -1.34164079 -1.34164079 -1.34164079]\n",
      " [-0.4472136  -0.4472136  -0.4472136  -0.4472136 ]\n",
      " [ 0.4472136   0.4472136   0.4472136   0.4472136 ]\n",
      " [ 1.34164079  1.34164079  1.34164079  1.34164079]]\n"
     ]
    }
   ],
   "execution_count": 8
  },
  {
   "metadata": {
    "ExecuteTime": {
     "end_time": "2025-04-06T08:22:48.756486Z",
     "start_time": "2025-04-06T08:22:48.743705Z"
    }
   },
   "cell_type": "code",
   "source": [
    "# PCA Uygula ( 2 Özelliğe indir )\n",
    "pca = PCA(n_components=2)\n",
    "data_pca = pca.fit_transform(data_scaled)\n",
    "print(\"PCA uygulanmış veri:\\n\", data_pca)"
   ],
   "id": "bdc53711928b7b8b",
   "outputs": [
    {
     "name": "stdout",
     "output_type": "stream",
     "text": [
      "PCA uygulanmış veri:\n",
      " [[-2.68328157e+00 -2.30564743e-16]\n",
      " [-8.94427191e-01  4.97701844e-17]\n",
      " [ 8.94427191e-01 -4.97701844e-17]\n",
      " [ 2.68328157e+00 -1.97384620e-16]]\n"
     ]
    }
   ],
   "execution_count": 7
  }
 ],
 "metadata": {
  "kernelspec": {
   "display_name": "Python 3",
   "language": "python",
   "name": "python3"
  },
  "language_info": {
   "codemirror_mode": {
    "name": "ipython",
    "version": 2
   },
   "file_extension": ".py",
   "mimetype": "text/x-python",
   "name": "python",
   "nbconvert_exporter": "python",
   "pygments_lexer": "ipython2",
   "version": "2.7.6"
  }
 },
 "nbformat": 4,
 "nbformat_minor": 5
}

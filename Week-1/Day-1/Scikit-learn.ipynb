{
 "cells": [
  {
   "metadata": {},
   "cell_type": "markdown",
   "source": [
    "# Scikit-learn ile Veri Standartlaştırma\n",
    "Sayısal verilerin ölçeklendirilmesi, model performansını artırmak için önemlidir. Farklı ölçeklendirme yöntemleri vardır:\n",
    "* StandartScaler: Genellikle en iyi performansı gösterir.\n",
    "* MinMaxScaler: Görüntü işleme gibi belirli aralıkların önemli olduğu durumlarda kullanılır.\n",
    "* RobustScaler: Aykırı Değerlerin olduğu durumlarda tercih edilir.\n",
    "* Normalizer: Metin verisi gibi satırların önemli olduğu durumlarda kullanılır.\n",
    "\n",
    "Kategorik verilerin sayısal verilere dönüştürülmesi için yöntemler:\n",
    "* OneHot Encoder: Her kategori için ayrı bir sütun oluşturur. Kategorik değişkenleri sayısal temsili için en aygın yöntem.\n",
    "* Label Encoder: Multi-class sınıflandırma için çok uygun değildir. Ağaç tabanlı modellerde veya kategorik değişkenler sıralı bir ilişkiye sahip olduğunda etkili olabilir.\n",
    "* Ordinal Encoder: Sıralı kategorik veriler için kullanılır. Her kategoriye bir sayı atar. Birden fazla sütuna aynı anda uygulanabilir (LabelEncoder'dan farkı). Kayegorik değişkenler sıralı bir ilişkiye sahip olduğunda etkili olabilir."
   ],
   "id": "7c64ed2b9a221625"
  },
  {
   "metadata": {},
   "cell_type": "markdown",
   "source": "# Sayısal Verileri Standartlaştırma",
   "id": "58a47eb4dc50ed76"
  },
  {
   "metadata": {},
   "cell_type": "markdown",
   "source": [
    "## Standart Scaler\n",
    "Veriyi standartlaştırır. Verinin ortalamasını 0, standart sapmasını 1 yapar.\n",
    "\n",
    "x_scaled = (x - mean) / std"
   ],
   "id": "17a3f8af111d6abb"
  },
  {
   "cell_type": "code",
   "id": "initial_id",
   "metadata": {
    "collapsed": true,
    "ExecuteTime": {
     "end_time": "2025-04-05T13:30:24.098122Z",
     "start_time": "2025-04-05T13:30:24.095284Z"
    }
   },
   "source": [
    "import numpy as np\n",
    "from sklearn.preprocessing import StandardScaler"
   ],
   "outputs": [],
   "execution_count": 43
  },
  {
   "metadata": {},
   "cell_type": "markdown",
   "source": "Numpy ile Veriyi Standartlaştırma",
   "id": "a939591d167e2ac6"
  },
  {
   "metadata": {
    "ExecuteTime": {
     "end_time": "2025-04-05T13:30:24.149036Z",
     "start_time": "2025-04-05T13:30:24.144935Z"
    }
   },
   "cell_type": "code",
   "source": [
    "# Veriyi oluşturma\n",
    "values = np.array([3,78,22,50,45,64])\n",
    "# Veriyi yeniden şekillendirme (Dikeyleştirme)\n",
    "values = values.reshape(-1,1)\n",
    "# Standart sapma hesaplama\n",
    "ss = np.std(values)\n",
    "# Ortalama hesaplama\n",
    "mean = np.mean(values)\n",
    "# Veriyi standartlaştırma\n",
    "print((values[0][0]-mean)/ss)"
   ],
   "id": "618e4ca706c9d29c",
   "outputs": [
    {
     "name": "stdout",
     "output_type": "stream",
     "text": [
      "-1.6250784771135995\n"
     ]
    }
   ],
   "execution_count": 44
  },
  {
   "metadata": {},
   "cell_type": "markdown",
   "source": "Scikit-learn ile Veriyi standartlaştırma",
   "id": "715f71e68ea3bac0"
  },
  {
   "metadata": {
    "ExecuteTime": {
     "end_time": "2025-04-05T13:30:24.207044Z",
     "start_time": "2025-04-05T13:30:24.202772Z"
    }
   },
   "cell_type": "code",
   "source": [
    "#Scikit-learn ile standartlaştırma\n",
    "sc = StandardScaler()\n",
    "print(sc.fit_transform(values))"
   ],
   "id": "67e0e7b206e0f8d4",
   "outputs": [
    {
     "name": "stdout",
     "output_type": "stream",
     "text": [
      "[[-1.62507848]\n",
      " [ 1.37199248]\n",
      " [-0.8658205 ]\n",
      " [ 0.25308599]\n",
      " [ 0.05328126]\n",
      " [ 0.81253924]]\n"
     ]
    }
   ],
   "execution_count": 45
  },
  {
   "metadata": {},
   "cell_type": "markdown",
   "source": [
    "## Min-Max Scaler\n",
    "Maksimum ve minimum değerleri kullanarak veriyi 0 ile 1 arasında yeniden ölçeklendirir.\n",
    "\n",
    "x_scaled = (x - x_min) / (x_max - x_min)"
   ],
   "id": "cf96aeb4d033e6fa"
  },
  {
   "metadata": {
    "ExecuteTime": {
     "end_time": "2025-04-05T13:30:24.259210Z",
     "start_time": "2025-04-05T13:30:24.256536Z"
    }
   },
   "cell_type": "code",
   "source": [
    "import numpy as np\n",
    "from sklearn.preprocessing import MinMaxScaler"
   ],
   "id": "47b0a01d9e4b4f48",
   "outputs": [],
   "execution_count": 46
  },
  {
   "metadata": {},
   "cell_type": "markdown",
   "source": "Numpy ile Veriyi Standartlaştırma",
   "id": "2faf4f09a51d9080"
  },
  {
   "metadata": {
    "ExecuteTime": {
     "end_time": "2025-04-05T13:30:24.312149Z",
     "start_time": "2025-04-05T13:30:24.308274Z"
    }
   },
   "cell_type": "code",
   "source": [
    "# Veriyi oluşturma\n",
    "values = np.array([3,78,22,50,45,64])\n",
    "# Min-Max değerlerini hesaplama\n",
    "xmin = np.min(values)\n",
    "xmax = np.max(values)\n",
    "# Normalize veriyi yazdır\n",
    "for i in range(6):\n",
    "    print((values[i]-xmin)/(xmax-xmin))"
   ],
   "id": "6fa2c1b6c47cade1",
   "outputs": [
    {
     "name": "stdout",
     "output_type": "stream",
     "text": [
      "0.0\n",
      "1.0\n",
      "0.25333333333333335\n",
      "0.6266666666666667\n",
      "0.56\n",
      "0.8133333333333334\n"
     ]
    }
   ],
   "execution_count": 47
  },
  {
   "metadata": {},
   "cell_type": "markdown",
   "source": "Scikit ile Veriyi Standartlaştırma",
   "id": "7585358997b37acb"
  },
  {
   "metadata": {
    "ExecuteTime": {
     "end_time": "2025-04-05T13:30:24.372621Z",
     "start_time": "2025-04-05T13:30:24.366077Z"
    }
   },
   "cell_type": "code",
   "source": "print(MinMaxScaler().fit_transform(values.reshape(-1,1)))",
   "id": "172e897016855a3",
   "outputs": [
    {
     "name": "stdout",
     "output_type": "stream",
     "text": [
      "[[0.        ]\n",
      " [1.        ]\n",
      " [0.25333333]\n",
      " [0.62666667]\n",
      " [0.56      ]\n",
      " [0.81333333]]\n"
     ]
    }
   ],
   "execution_count": 48
  },
  {
   "metadata": {},
   "cell_type": "markdown",
   "source": [
    "# Robust Scaler\n",
    "Verinin medyanını 0, IQR'ını 1 yapar. Aykırı değerlerden etkilenmez.\n",
    "\n",
    "x_scaled = (x - x_median) / IQR\n"
   ],
   "id": "d026ab2c280fc7e5"
  },
  {
   "metadata": {
    "ExecuteTime": {
     "end_time": "2025-04-05T13:30:24.425497Z",
     "start_time": "2025-04-05T13:30:24.421813Z"
    }
   },
   "cell_type": "code",
   "source": [
    "import pandas as pd\n",
    "from sklearn.preprocessing import RobustScaler"
   ],
   "id": "6d629fe7a4b3e925",
   "outputs": [],
   "execution_count": 49
  },
  {
   "metadata": {},
   "cell_type": "markdown",
   "source": "Numpy ile Veriyi Standartlaştırma",
   "id": "f3f4c586347da99d"
  },
  {
   "metadata": {
    "ExecuteTime": {
     "end_time": "2025-04-05T13:30:24.486574Z",
     "start_time": "2025-04-05T13:30:24.479203Z"
    }
   },
   "cell_type": "code",
   "source": [
    "# Veriyi oluşturma\n",
    "values = np.array([3,78,22,50,45,64])\n",
    "# Yüzde 25 ve 75 hesaplama\n",
    "q25 = np.percentile(values, 25)\n",
    "q75 = np.percentile(values, 75)\n",
    "# IQR hesaplama\n",
    "iqr = q75 - q25\n",
    "# Ortalama hesaplama\n",
    "median = np.median(values)\n",
    "print(f\"Yüzde 25: {q25}, Yüzde 75: {q75}, IQR: {iqr}, Medyan: {median}\")\n",
    "\n",
    "# Veriyi standartlaştırma\n",
    "for i in range(6):\n",
    "    print((values[i]-median)/iqr)"
   ],
   "id": "a1be50bfbd585965",
   "outputs": [
    {
     "name": "stdout",
     "output_type": "stream",
     "text": [
      "Yüzde 25: 27.75, Yüzde 75: 60.5, IQR: 32.75, Medyan: 47.5\n",
      "-1.3587786259541985\n",
      "0.9312977099236641\n",
      "-0.7786259541984732\n",
      "0.07633587786259542\n",
      "-0.07633587786259542\n",
      "0.5038167938931297\n"
     ]
    }
   ],
   "execution_count": 50
  },
  {
   "metadata": {},
   "cell_type": "markdown",
   "source": "Scikit-learn ile Veriyi Standartlaştırma",
   "id": "fab2429d8fbb7db2"
  },
  {
   "metadata": {
    "ExecuteTime": {
     "end_time": "2025-04-05T13:30:24.549425Z",
     "start_time": "2025-04-05T13:30:24.542798Z"
    }
   },
   "cell_type": "code",
   "source": "print(RobustScaler().fit_transform(values.reshape(-1,1)))",
   "id": "dd13fa3678bee37f",
   "outputs": [
    {
     "name": "stdout",
     "output_type": "stream",
     "text": [
      "[[-1.35877863]\n",
      " [ 0.93129771]\n",
      " [-0.77862595]\n",
      " [ 0.07633588]\n",
      " [-0.07633588]\n",
      " [ 0.50381679]]\n"
     ]
    }
   ],
   "execution_count": 51
  },
  {
   "metadata": {},
   "cell_type": "markdown",
   "source": [
    "# Normalizer\n",
    "L1 norm veya L2 norm kullanarak veriyi normalize eder. Her bir örneği birim uzunluğa getirir."
   ],
   "id": "a239021dad1deca7"
  },
  {
   "metadata": {
    "ExecuteTime": {
     "end_time": "2025-04-05T13:30:24.600011Z",
     "start_time": "2025-04-05T13:30:24.596558Z"
    }
   },
   "cell_type": "code",
   "source": [
    "import numpy as np\n",
    "from sklearn.preprocessing import Normalizer"
   ],
   "id": "bd46ff09f673205a",
   "outputs": [],
   "execution_count": 52
  },
  {
   "metadata": {},
   "cell_type": "markdown",
   "source": "Scikit ile Veriyi Standartlaşma",
   "id": "7bf1206b056ebea1"
  },
  {
   "metadata": {
    "ExecuteTime": {
     "end_time": "2025-04-05T13:30:24.659953Z",
     "start_time": "2025-04-05T13:30:24.655161Z"
    }
   },
   "cell_type": "code",
   "source": [
    "# 2 boyutlu veri oluşturma\n",
    "data = np.array([[1, 2, 3], [4, 5, 6], [7, 8, 9]])\n",
    "# Sklearn ile normalizasyon\n",
    "normalizer = Normalizer(norm='l2')\n",
    "# Normalizasyonu uygula\n",
    "normalized_data = normalizer.fit_transform(data)\n",
    "\n",
    "print(\"Sklearn ile normalizasyon sonucu:\" + str(normalized_data))"
   ],
   "id": "b90e95a7eefa1421",
   "outputs": [
    {
     "name": "stdout",
     "output_type": "stream",
     "text": [
      "Sklearn ile normalizasyon sonucu:[[0.26726124 0.53452248 0.80178373]\n",
      " [0.45584231 0.56980288 0.68376346]\n",
      " [0.50257071 0.57436653 0.64616234]]\n"
     ]
    }
   ],
   "execution_count": 53
  },
  {
   "metadata": {},
   "cell_type": "markdown",
   "source": "# Kategorik Verileri Standartlaştırma",
   "id": "984eb8408559050a"
  },
  {
   "metadata": {
    "ExecuteTime": {
     "end_time": "2025-04-05T13:30:24.705132Z",
     "start_time": "2025-04-05T13:30:24.700640Z"
    }
   },
   "cell_type": "code",
   "source": [
    "import numpy as np\n",
    "data = np.array([['Kırmızı','Küçük','İlkokul'],\n",
    "                    ['mavi','Orta','Lise'],\n",
    "                    ['Yeşil','Büyük','Üniversite'],\n",
    "                    ['Kırmızı','Orta','Lise'],\n",
    "                 ])"
   ],
   "id": "c143b90b13b36f3a",
   "outputs": [],
   "execution_count": 54
  },
  {
   "metadata": {},
   "cell_type": "markdown",
   "source": [
    "# OneHot Encoding\n",
    "Her kategori için ayrı bir sütun oluşturur. Kategorik değişkenleri sayısal temsili için en aygın yöntem.\n"
   ],
   "id": "f873d4ee55eb3e56"
  },
  {
   "metadata": {
    "ExecuteTime": {
     "end_time": "2025-04-05T13:30:24.761569Z",
     "start_time": "2025-04-05T13:30:24.755676Z"
    }
   },
   "cell_type": "code",
   "source": [
    "from sklearn.preprocessing import OneHotEncoder\n",
    "\n",
    "# OneHotEncoder nesnesi oluşturma\n",
    "onehot_encoder = OneHotEncoder()\n",
    "color_encoded = onehot_encoder.fit_transform(data[:,0].reshape(-1,1)).toarray()\n",
    "\n",
    "print(color_encoded)"
   ],
   "id": "ffc82c8f2cb5c12c",
   "outputs": [
    {
     "name": "stdout",
     "output_type": "stream",
     "text": [
      "[[1. 0. 0.]\n",
      " [0. 0. 1.]\n",
      " [0. 1. 0.]\n",
      " [1. 0. 0.]]\n"
     ]
    }
   ],
   "execution_count": 55
  },
  {
   "metadata": {},
   "cell_type": "markdown",
   "source": [
    "# Label Encoding\n",
    "Kategorik verileri sayısal verilere dönüştürür. Her kategori için bir sayı atar. Ancak sıralı kategorik veriler için uygun değildir."
   ],
   "id": "4a167ed20d1647d0"
  },
  {
   "metadata": {
    "ExecuteTime": {
     "end_time": "2025-04-05T13:30:24.813096Z",
     "start_time": "2025-04-05T13:30:24.809086Z"
    }
   },
   "cell_type": "code",
   "source": [
    "from sklearn.preprocessing import LabelEncoder\n",
    "\n",
    "# LabelEncoder nesnesi oluşturma\n",
    "label_encoder = LabelEncoder()\n",
    "boyut_encoded = label_encoder.fit_transform(data[:,1])\n",
    "\n",
    "print(boyut_encoded)"
   ],
   "id": "51681de20e697c26",
   "outputs": [
    {
     "name": "stdout",
     "output_type": "stream",
     "text": [
      "[1 2 0 2]\n"
     ]
    }
   ],
   "execution_count": 56
  },
  {
   "metadata": {},
   "cell_type": "markdown",
   "source": [
    "# Ordinal Encoding\n",
    "Sıralı kategorik verileri sayısal verilere dönüştürür. Her kategori için bir sayı atar. Sıralı kategorik veriler için uygundur."
   ],
   "id": "5e759c7047fd7d9d"
  },
  {
   "metadata": {
    "ExecuteTime": {
     "end_time": "2025-04-05T13:30:24.876410Z",
     "start_time": "2025-04-05T13:30:24.871675Z"
    }
   },
   "cell_type": "code",
   "source": [
    "from sklearn.preprocessing import OrdinalEncoder\n",
    "\n",
    "# OrdinalEncoder nesnesi oluşturma\n",
    "ordinal_encoder = OrdinalEncoder(categories=[['İlkokul','Lise','Üniversite']])\n",
    "education_encoded = ordinal_encoder.fit_transform(data[:,2].reshape(-1,1))\n",
    "\n",
    "print(education_encoded)"
   ],
   "id": "b07ee2cb6668ff16",
   "outputs": [
    {
     "name": "stdout",
     "output_type": "stream",
     "text": [
      "[[0.]\n",
      " [1.]\n",
      " [2.]\n",
      " [1.]]\n"
     ]
    }
   ],
   "execution_count": 57
  },
  {
   "metadata": {
    "ExecuteTime": {
     "end_time": "2025-04-05T13:30:24.926165Z",
     "start_time": "2025-04-05T13:30:24.924008Z"
    }
   },
   "cell_type": "code",
   "source": "",
   "id": "c6d80cc40f3b3867",
   "outputs": [],
   "execution_count": null
  }
 ],
 "metadata": {
  "kernelspec": {
   "display_name": "Python 3",
   "language": "python",
   "name": "python3"
  },
  "language_info": {
   "codemirror_mode": {
    "name": "ipython",
    "version": 2
   },
   "file_extension": ".py",
   "mimetype": "text/x-python",
   "name": "python",
   "nbconvert_exporter": "python",
   "pygments_lexer": "ipython2",
   "version": "2.7.6"
  }
 },
 "nbformat": 4,
 "nbformat_minor": 5
}

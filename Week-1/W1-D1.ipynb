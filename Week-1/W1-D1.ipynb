{
 "cells": [
  {
   "metadata": {},
   "cell_type": "markdown",
   "source": [
    "5 April 2025\n",
    "Week 1 Day 1\n",
    "\n",
    "Creating own data."
   ],
   "id": "552355fdce278ee4"
  },
  {
   "metadata": {
    "ExecuteTime": {
     "end_time": "2025-04-05T08:49:19.591123Z",
     "start_time": "2025-04-05T08:49:19.362420Z"
    }
   },
   "cell_type": "code",
   "source": "import numpy as np",
   "id": "f7e468fb8b8c5b8c",
   "outputs": [],
   "execution_count": 1
  },
  {
   "metadata": {
    "ExecuteTime": {
     "end_time": "2025-04-05T08:49:35.970639Z",
     "start_time": "2025-04-05T08:49:35.966771Z"
    }
   },
   "cell_type": "code",
   "source": [
    "months = ['Ocak', 'Şubat', 'Mart', 'Nisan', 'Mayıs', 'Haziran', 'Temmuz', 'Ağustos', 'Eylül', 'Ekim', 'Kasım', 'Aralık']\n",
    "region_1 = [10, 12, 15, 18, 20, 22, 25, 23, 19, 17, 12, 14]\n",
    "region_2 = [8, 9, 11, 13, 15, 17, 19, 18, 14, 12, 17, 10]\n",
    "region_3 = [12, 14, 16, 18, 20, 22, 24, 23, 21, 19, 17, 15]\n",
    "data = np.array([region_1, region_2, region_3]).T"
   ],
   "id": "ce0d4f8e322d737e",
   "outputs": [],
   "execution_count": 2
  },
  {
   "metadata": {
    "ExecuteTime": {
     "end_time": "2025-04-05T08:50:19.198883Z",
     "start_time": "2025-04-05T08:50:19.190219Z"
    }
   },
   "cell_type": "code",
   "source": "data",
   "id": "c46a52d885095ad7",
   "outputs": [
    {
     "data": {
      "text/plain": [
       "array([[10,  8, 12],\n",
       "       [12,  9, 14],\n",
       "       [15, 11, 16],\n",
       "       [18, 13, 18],\n",
       "       [20, 15, 20],\n",
       "       [22, 17, 22],\n",
       "       [25, 19, 24],\n",
       "       [23, 18, 23],\n",
       "       [19, 14, 21],\n",
       "       [17, 12, 19],\n",
       "       [12, 17, 17],\n",
       "       [14, 10, 15]])"
      ]
     },
     "execution_count": 3,
     "metadata": {},
     "output_type": "execute_result"
    }
   ],
   "execution_count": 3
  },
  {
   "metadata": {
    "ExecuteTime": {
     "end_time": "2025-04-05T08:50:48.021320Z",
     "start_time": "2025-04-05T08:50:48.016991Z"
    }
   },
   "cell_type": "code",
   "source": [
    "# 1. Dizinin boyutunu ve eleman sayısını inceleyelim.\n",
    "data.shape, data.size"
   ],
   "id": "ef2357015d0c3d12",
   "outputs": [
    {
     "data": {
      "text/plain": [
       "((12, 3), 36)"
      ]
     },
     "execution_count": 5,
     "metadata": {},
     "output_type": "execute_result"
    }
   ],
   "execution_count": 5
  },
  {
   "metadata": {
    "ExecuteTime": {
     "end_time": "2025-04-05T08:58:33.525276Z",
     "start_time": "2025-04-05T08:58:33.520694Z"
    }
   },
   "cell_type": "code",
   "source": [
    "# 2. Her bölgenin yıllık toplam satışı nedir?\n",
    "total_sales = data.sum(axis=0)\n",
    "total_sales"
   ],
   "id": "8cfccde7e3dd10ea",
   "outputs": [
    {
     "data": {
      "text/plain": [
       "array([207, 163, 221])"
      ]
     },
     "execution_count": 20,
     "metadata": {},
     "output_type": "execute_result"
    }
   ],
   "execution_count": 20
  },
  {
   "metadata": {
    "ExecuteTime": {
     "end_time": "2025-04-05T08:58:49.634413Z",
     "start_time": "2025-04-05T08:58:49.628491Z"
    }
   },
   "cell_type": "code",
   "source": [
    "# 3. Tüm bölgelerin yıllık ortlama satışı nedir?\n",
    "average_sales = data.mean(axis=0)\n",
    "average_sales"
   ],
   "id": "d3a69fd443458ed1",
   "outputs": [
    {
     "data": {
      "text/plain": [
       "array([17.25      , 13.58333333, 18.41666667])"
      ]
     },
     "execution_count": 23,
     "metadata": {},
     "output_type": "execute_result"
    }
   ],
   "execution_count": 23
  },
  {
   "metadata": {
    "ExecuteTime": {
     "end_time": "2025-04-05T08:59:03.512107Z",
     "start_time": "2025-04-05T08:59:03.507072Z"
    }
   },
   "cell_type": "code",
   "source": [
    "# 4. En yüksek ve en düşük aylık satışlar hangi aylarda gerçekleşmitir ve miktarları nedir?\n",
    "highest_sales = data.max(axis=0)\n",
    "lowest_sales = data.min(axis=0)\n",
    "highest_sales_month = np.array(months)[np.argmax(highest_sales)]\n",
    "lowest_sales_month = np.array(months)[np.argmin(lowest_sales)]\n",
    "highest_sales_value = highest_sales.max()\n",
    "lowest_sales_value = lowest_sales.min()\n",
    "highest_sales_month, highest_sales_value, lowest_sales_month, lowest_sales_value"
   ],
   "id": "bbc3c624b52c7462",
   "outputs": [
    {
     "data": {
      "text/plain": [
       "(np.str_('Ocak'), np.int64(25), np.str_('Şubat'), np.int64(8))"
      ]
     },
     "execution_count": 24,
     "metadata": {},
     "output_type": "execute_result"
    }
   ],
   "execution_count": 24
  },
  {
   "metadata": {
    "ExecuteTime": {
     "end_time": "2025-04-05T08:59:11.859763Z",
     "start_time": "2025-04-05T08:59:11.855347Z"
    }
   },
   "cell_type": "code",
   "source": [
    "# 5. En çok ve en az satış yapılan aylar hangileridir?\n",
    "highest_month = months[np.argmax(highest_sales)]\n",
    "lowest_month = months[np.argmin(highest_sales)]\n",
    "highest_sales_value = highest_sales.max()\n",
    "lowest_sales_value = highest_sales.min()\n",
    "lowest_month, lowest_sales_value"
   ],
   "id": "3c95d908054a35ea",
   "outputs": [
    {
     "data": {
      "text/plain": [
       "('Şubat', np.int64(19))"
      ]
     },
     "execution_count": 25,
     "metadata": {},
     "output_type": "execute_result"
    }
   ],
   "execution_count": 25
  },
  {
   "metadata": {
    "ExecuteTime": {
     "end_time": "2025-04-05T08:59:18.663067Z",
     "start_time": "2025-04-05T08:59:18.658683Z"
    }
   },
   "cell_type": "code",
   "source": [
    "# 6. Her bölgenin aylık satışlarındaki dalganalnma ( starndart sapma ) ne kadardır?\n",
    "std_deviation = data.std(axis=0)\n",
    "std_deviation"
   ],
   "id": "fe5eb1bd93224acf",
   "outputs": [
    {
     "data": {
      "text/plain": [
       "array([4.56663625, 3.52274356, 3.59301019])"
      ]
     },
     "execution_count": 26,
     "metadata": {},
     "output_type": "execute_result"
    }
   ],
   "execution_count": 26
  },
  {
   "metadata": {
    "ExecuteTime": {
     "end_time": "2025-04-05T08:59:23.468765Z",
     "start_time": "2025-04-05T08:59:23.464416Z"
    }
   },
   "cell_type": "code",
   "source": [
    "# 7. Satış verileri farklı bir formatta ( 12 ay 3 bölge ) nasıl yeniden düzenlenebilir?\n",
    "reshaped_data = data.reshape(12, 3)\n",
    "reshaped_data\n"
   ],
   "id": "852a0f2d2df44dee",
   "outputs": [
    {
     "data": {
      "text/plain": [
       "array([[10,  8, 12],\n",
       "       [12,  9, 14],\n",
       "       [15, 11, 16],\n",
       "       [18, 13, 18],\n",
       "       [20, 15, 20],\n",
       "       [22, 17, 22],\n",
       "       [25, 19, 24],\n",
       "       [23, 18, 23],\n",
       "       [19, 14, 21],\n",
       "       [17, 12, 19],\n",
       "       [12, 17, 17],\n",
       "       [14, 10, 15]])"
      ]
     },
     "execution_count": 27,
     "metadata": {},
     "output_type": "execute_result"
    }
   ],
   "execution_count": 27
  },
  {
   "metadata": {
    "ExecuteTime": {
     "end_time": "2025-04-05T08:59:57.264554Z",
     "start_time": "2025-04-05T08:59:57.258559Z"
    }
   },
   "cell_type": "code",
   "source": [
    "# 8. 15 Milyon TL'nin üzerindeki satışlar hangi aylarda ve bölgelerde gerçekleşmiştir?\n",
    "high_sales_mask = data > 15\n",
    "high_sales_indices = np.argwhere(high_sales_mask)\n",
    "high_sales_months = [months[i] for i, j in high_sales_indices]\n",
    "high_sales_regions = high_sales_indices[:, 1]\n",
    "high_sales_values = data[high_sales_mask]\n",
    "high_sales_info = list(zip(high_sales_months, high_sales_regions, high_sales_values))\n",
    "high_sales_info"
   ],
   "id": "87050db9fa706827",
   "outputs": [
    {
     "data": {
      "text/plain": [
       "[('Mart', np.int64(2), np.int64(16)),\n",
       " ('Nisan', np.int64(0), np.int64(18)),\n",
       " ('Nisan', np.int64(2), np.int64(18)),\n",
       " ('Mayıs', np.int64(0), np.int64(20)),\n",
       " ('Mayıs', np.int64(2), np.int64(20)),\n",
       " ('Haziran', np.int64(0), np.int64(22)),\n",
       " ('Haziran', np.int64(1), np.int64(17)),\n",
       " ('Haziran', np.int64(2), np.int64(22)),\n",
       " ('Temmuz', np.int64(0), np.int64(25)),\n",
       " ('Temmuz', np.int64(1), np.int64(19)),\n",
       " ('Temmuz', np.int64(2), np.int64(24)),\n",
       " ('Ağustos', np.int64(0), np.int64(23)),\n",
       " ('Ağustos', np.int64(1), np.int64(18)),\n",
       " ('Ağustos', np.int64(2), np.int64(23)),\n",
       " ('Eylül', np.int64(0), np.int64(19)),\n",
       " ('Eylül', np.int64(2), np.int64(21)),\n",
       " ('Ekim', np.int64(0), np.int64(17)),\n",
       " ('Ekim', np.int64(2), np.int64(19)),\n",
       " ('Kasım', np.int64(1), np.int64(17)),\n",
       " ('Kasım', np.int64(2), np.int64(17))]"
      ]
     },
     "execution_count": 30,
     "metadata": {},
     "output_type": "execute_result"
    }
   ],
   "execution_count": 30
  },
  {
   "metadata": {
    "ExecuteTime": {
     "end_time": "2025-04-05T09:00:03.166366Z",
     "start_time": "2025-04-05T09:00:03.161946Z"
    }
   },
   "cell_type": "code",
   "source": [
    "# 9. Her bölgenin aylık kümülatif satış toplamları nelerdir?\n",
    "cumulative_sales = np.cumsum(data, axis=0)\n",
    "cumulative_sales"
   ],
   "id": "6cded3359e251ad9",
   "outputs": [
    {
     "data": {
      "text/plain": [
       "array([[ 10,   8,  12],\n",
       "       [ 22,  17,  26],\n",
       "       [ 37,  28,  42],\n",
       "       [ 55,  41,  60],\n",
       "       [ 75,  56,  80],\n",
       "       [ 97,  73, 102],\n",
       "       [122,  92, 126],\n",
       "       [145, 110, 149],\n",
       "       [164, 124, 170],\n",
       "       [181, 136, 189],\n",
       "       [193, 153, 206],\n",
       "       [207, 163, 221]])"
      ]
     },
     "execution_count": 31,
     "metadata": {},
     "output_type": "execute_result"
    }
   ],
   "execution_count": 31
  },
  {
   "metadata": {
    "ExecuteTime": {
     "end_time": "2025-04-05T09:00:06.792534Z",
     "start_time": "2025-04-05T09:00:06.787234Z"
    }
   },
   "cell_type": "code",
   "source": [
    "# 10. Her bölgenin satışlarının medyanı ( ortanca ) nedir?\n",
    "median_sales = np.median(data, axis=0)\n",
    "median_sales"
   ],
   "id": "15037f20178773f0",
   "outputs": [
    {
     "data": {
      "text/plain": [
       "array([17.5, 13.5, 18.5])"
      ]
     },
     "execution_count": 32,
     "metadata": {},
     "output_type": "execute_result"
    }
   ],
   "execution_count": 32
  },
  {
   "metadata": {
    "ExecuteTime": {
     "end_time": "2025-04-05T09:00:11.547364Z",
     "start_time": "2025-04-05T09:00:11.542057Z"
    }
   },
   "cell_type": "code",
   "source": [
    "# 11. Her bölgenin satışlarını varyansı nedir?\n",
    "variance_sales = np.var(data, axis=0)\n",
    "variance_sales"
   ],
   "id": "f4e18f830dda342c",
   "outputs": [
    {
     "data": {
      "text/plain": [
       "array([20.85416667, 12.40972222, 12.90972222])"
      ]
     },
     "execution_count": 33,
     "metadata": {},
     "output_type": "execute_result"
    }
   ],
   "execution_count": 33
  },
  {
   "metadata": {
    "ExecuteTime": {
     "end_time": "2025-04-05T09:00:18.932297Z",
     "start_time": "2025-04-05T09:00:18.927381Z"
    }
   },
   "cell_type": "code",
   "source": [
    "# 12. Tüm satış verillerimnde 25. ve 75. yüzdelik dilimleri ( çeyreklikler ) nedir?\n",
    "percentiles = np.percentile(data, [25, 75], axis=0)\n",
    "percentiles_25 = percentiles[0]\n",
    "percentiles_75 = percentiles[1]\n",
    "percentiles_25, percentiles_75"
   ],
   "id": "8cffaa47087644f0",
   "outputs": [
    {
     "data": {
      "text/plain": [
       "(array([13.5 , 10.75, 15.75]), array([20.5 , 17.  , 21.25]))"
      ]
     },
     "execution_count": 34,
     "metadata": {},
     "output_type": "execute_result"
    }
   ],
   "execution_count": 34
  },
  {
   "metadata": {
    "ExecuteTime": {
     "end_time": "2025-04-05T09:00:27.490643Z",
     "start_time": "2025-04-05T09:00:27.485316Z"
    }
   },
   "cell_type": "code",
   "source": [
    "# 13. Her bölgenin en çok satış yaptığı ay hangisidir?\n",
    "highest_sales_region = np.argmax(data, axis=0)\n",
    "highest_sales_month = np.array(months)[highest_sales_region]\n",
    "highest_sales_month"
   ],
   "id": "b3615bf313f9164e",
   "outputs": [
    {
     "data": {
      "text/plain": [
       "array(['Temmuz', 'Temmuz', 'Temmuz'], dtype='<U7')"
      ]
     },
     "execution_count": 35,
     "metadata": {},
     "output_type": "execute_result"
    }
   ],
   "execution_count": 35
  },
  {
   "metadata": {
    "ExecuteTime": {
     "end_time": "2025-04-05T09:00:42.008872Z",
     "start_time": "2025-04-05T09:00:42.002772Z"
    }
   },
   "cell_type": "code",
   "source": [
    "# 14. Satış verilerinden rastgele 5 eleman seçelim.\n",
    "random_indices = np.random.choice(data.size, 5, replace=False)\n",
    "random_elements = data.flatten()[random_indices]\n",
    "random_elements"
   ],
   "id": "1108fbe0f1098244",
   "outputs": [
    {
     "data": {
      "text/plain": [
       "array([17, 17, 20, 14, 17])"
      ]
     },
     "execution_count": 36,
     "metadata": {},
     "output_type": "execute_result"
    }
   ],
   "execution_count": 36
  },
  {
   "metadata": {
    "ExecuteTime": {
     "end_time": "2025-04-05T09:00:45.906596Z",
     "start_time": "2025-04-05T09:00:45.902231Z"
    }
   },
   "cell_type": "code",
   "source": [
    "# 15. Satış verilerini düzleştirin (1 boyutlu diziye dönüştürün.)\n",
    "flattened_data = data.flatten()\n",
    "flattened_data"
   ],
   "id": "2fb5e51a464e0349",
   "outputs": [
    {
     "data": {
      "text/plain": [
       "array([10,  8, 12, 12,  9, 14, 15, 11, 16, 18, 13, 18, 20, 15, 20, 22, 17,\n",
       "       22, 25, 19, 24, 23, 18, 23, 19, 14, 21, 17, 12, 19, 12, 17, 17, 14,\n",
       "       10, 15])"
      ]
     },
     "execution_count": 37,
     "metadata": {},
     "output_type": "execute_result"
    }
   ],
   "execution_count": 37
  }
 ],
 "metadata": {
  "kernelspec": {
   "display_name": "Python 3",
   "language": "python",
   "name": "python3"
  },
  "language_info": {
   "codemirror_mode": {
    "name": "ipython",
    "version": 2
   },
   "file_extension": ".py",
   "mimetype": "text/x-python",
   "name": "python",
   "nbconvert_exporter": "python",
   "pygments_lexer": "ipython2",
   "version": "2.7.6"
  }
 },
 "nbformat": 4,
 "nbformat_minor": 5
}
